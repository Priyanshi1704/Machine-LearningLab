{
  "nbformat": 4,
  "nbformat_minor": 0,
  "metadata": {
    "colab": {
      "name": "Copy of Welcome To Colaboratory",
      "provenance": [],
      "collapsed_sections": [],
      "toc_visible": true,
      "include_colab_link": true
    },
    "kernelspec": {
      "display_name": "Python 3",
      "name": "python3"
    }
  },
  "cells": [
    {
      "cell_type": "markdown",
      "metadata": {
        "id": "view-in-github",
        "colab_type": "text"
      },
      "source": [
        "<a href=\"https://colab.research.google.com/github/Priyanshi1704/Machine-LearningLab/blob/main/Lab2.ipynb\" target=\"_parent\"><img src=\"https://colab.research.google.com/assets/colab-badge.svg\" alt=\"Open In Colab\"/></a>"
      ]
    },
    {
      "cell_type": "code",
      "metadata": {
        "id": "3uoZNaKHIWZ3",
        "colab": {
          "base_uri": "https://localhost:8080/"
        },
        "outputId": "85852050-b74c-4436-c762-a86639ea93fb"
      },
      "source": [
        "#question1\n",
        "import pandas as pd\n",
        "data= pd.read_csv(\"student_scores.csv\")\n",
        "\n",
        "features=len(data.columns)-1\n",
        "print(\"no of features=\",features)\n",
        "\n",
        "\n",
        "patterns=data.shape[0]\n",
        "print(\"no of pattern=\",patterns)\n",
        "max=data['Scores'][data['Scores'].idxmax()]\n",
        "\n",
        "min=data['Scores'][data['Scores'].idxmin()]\n",
        "\n",
        "\n",
        "print('Range=',min,'to',max)\n",
        "\n",
        "\n",
        "\n",
        "\n"
      ],
      "execution_count": null,
      "outputs": [
        {
          "output_type": "stream",
          "text": [
            "no of features= 1\n",
            "no of pattern= 25\n",
            "Range= 17 to 95\n"
          ],
          "name": "stdout"
        }
      ]
    },
    {
      "cell_type": "code",
      "metadata": {
        "id": "mk7ZJrKfUpwt",
        "colab": {
          "base_uri": "https://localhost:8080/"
        },
        "outputId": "f9cdfe31-22ec-4764-c097-73dec06c614e"
      },
      "source": [
        "\n",
        "from sklearn.model_selection import train_test_split\n",
        "X =data.drop(columns = 'Scores', axis=1)\n",
        "Y = data['Scores']\n",
        "\n",
        "X_train, X_test, y_train, y_test = train_test_split(X, Y, test_size=0.1, random_state=4)\n",
        "X_train_1, X_test_1, y_train_1, y_test_1 = train_test_split(X, Y, test_size=0.2, random_state=4)\n",
        "print(X.shape, X_train.shape, X_test.shape)\n"
      ],
      "execution_count": null,
      "outputs": [
        {
          "output_type": "stream",
          "text": [
            "(25, 1) (22, 1) (3, 1)\n"
          ],
          "name": "stdout"
        }
      ]
    },
    {
      "cell_type": "code",
      "metadata": {
        "id": "RaUWh_5LUynP",
        "colab": {
          "base_uri": "https://localhost:8080/"
        },
        "outputId": "cbee0a14-36e3-4ccc-b05d-3a9f855ae920"
      },
      "source": [
        "import numpy as np\n",
        "\n",
        "Scores = data.to_numpy()\n",
        "row_wise_mean = np.mean(Scores, axis=1)\n",
        "column_wise_mean = np.mean(Scores, axis=0)\n",
        "overall_mean = np.mean(Scores)\n",
        "\n",
        "print(f\"ROW_WISE_MEAN\\n{row_wise_mean}\")\n",
        "print(f\"COLUMN_WISE_MEAN\\n{column_wise_mean}\")\n",
        "print(f\"OVERALL_MEAN: {overall_mean}\")\n",
        "\n",
        "row_wise_median = np.median(Scores, axis=1)\n",
        "column_wise_median = np.median(Scores, axis=0)\n",
        "overall_median = np.median(Scores)\n",
        "\n",
        "print(f\"ROW_WISE_MEDIAN\\n{row_wise_median}\")\n",
        "print(f\"COLUMN_WISE_MEDIAN\\n{column_wise_median}\")\n",
        "print(f\"OVERALL_MEDIAN: {overall_median}\")\n",
        "\n",
        "row_wise_sd = np.std(Scores, axis=1)\n",
        "column_wise_sd = np.std(Scores, axis=0)\n",
        "overall_sd = np.std(Scores)\n",
        "print(f\"ROW_WISE_STANDARD_DEVIATION\\n{row_wise_sd}\")\n",
        "print(f\"COLUMN_WISE_STANDARD_DEVIATION\\n{column_wise_sd}\")\n",
        "print(f\"OVERALL_STANDARD_DEVIATION: {overall_sd}\")\n",
        "\n",
        "from scipy.stats import mode\n",
        "\n",
        "row_wise_mode = mode(Scores, axis=1).mode\n",
        "column_wise_mode = mode(Scores, axis=0).mode\n",
        "overall_mode = mode(Scores, axis=None).mode\n",
        "\n",
        "print(f\"ROW_WISE_MODE\\n{row_wise_mode}\")\n",
        "print(f\"COLUMN_WISE_MODE\\n{column_wise_mode}\")\n",
        "print(f\"OVERALL_MODE: {overall_mode}\")"
      ],
      "execution_count": null,
      "outputs": [
        {
          "output_type": "stream",
          "text": [
            "ROW_WISE_MEAN\n",
            "[11.75 26.05 15.1  41.75 16.75 10.75 48.6  32.75 44.65 13.85 46.35 33.95\n",
            " 22.75 22.65  9.05 51.95 16.25 12.95 36.55 38.2  16.35 29.4  19.4  41.45\n",
            " 46.9 ]\n",
            "COLUMN_WISE_MEAN\n",
            "[ 5.012 51.48 ]\n",
            "OVERALL_MEAN: 28.245999999999995\n",
            "ROW_WISE_MEDIAN\n",
            "[11.75 26.05 15.1  41.75 16.75 10.75 48.6  32.75 44.65 13.85 46.35 33.95\n",
            " 22.75 22.65  9.05 51.95 16.25 12.95 36.55 38.2  16.35 29.4  19.4  41.45\n",
            " 46.9 ]\n",
            "COLUMN_WISE_MEDIAN\n",
            "[ 4.8 47. ]\n",
            "OVERALL_MEDIAN: 13.1\n",
            "ROW_WISE_STANDARD_DEVIATION\n",
            "[ 9.25 20.95 11.9  33.25 13.25  9.25 39.4  27.25 36.35 11.15 38.65 28.05\n",
            " 18.25 19.35  7.95 43.05 13.75 11.05 30.45 30.8  13.65 24.6  15.6  34.55\n",
            " 39.1 ]\n",
            "COLUMN_WISE_STANDARD_DEVIATION\n",
            "[ 2.4740768  24.77598838]\n",
            "OVERALL_STANDARD_DEVIATION: 29.15139934891634\n",
            "ROW_WISE_MODE\n",
            "[[2.5]\n",
            " [5.1]\n",
            " [3.2]\n",
            " [8.5]\n",
            " [3.5]\n",
            " [1.5]\n",
            " [9.2]\n",
            " [5.5]\n",
            " [8.3]\n",
            " [2.7]\n",
            " [7.7]\n",
            " [5.9]\n",
            " [4.5]\n",
            " [3.3]\n",
            " [1.1]\n",
            " [8.9]\n",
            " [2.5]\n",
            " [1.9]\n",
            " [6.1]\n",
            " [7.4]\n",
            " [2.7]\n",
            " [4.8]\n",
            " [3.8]\n",
            " [6.9]\n",
            " [7.8]]\n",
            "COLUMN_WISE_MODE\n",
            "[[ 2.5 30. ]]\n",
            "OVERALL_MODE: [30.]\n"
          ],
          "name": "stdout"
        }
      ]
    },
    {
      "cell_type": "code",
      "metadata": {
        "id": "Lm2_9Z7-Z34W",
        "colab": {
          "base_uri": "https://localhost:8080/",
          "height": 198
        },
        "outputId": "2b2416bf-74ad-42d9-d95a-e6284804ff2f"
      },
      "source": [
        "import numpy as np\n",
        "sumOfSquare = np.sum(np.square(data['Scores'].to_numpy() - data['Hours'].to_numpy()))\n",
        "print(\"Sum of Square = {}\".format(sumOfSquare))"
      ],
      "execution_count": null,
      "outputs": [
        {
          "output_type": "error",
          "ename": "NameError",
          "evalue": "ignored",
          "traceback": [
            "\u001b[0;31m---------------------------------------------------------------------------\u001b[0m",
            "\u001b[0;31mNameError\u001b[0m                                 Traceback (most recent call last)",
            "\u001b[0;32m<ipython-input-1-11588b1ddebb>\u001b[0m in \u001b[0;36m<module>\u001b[0;34m()\u001b[0m\n\u001b[1;32m      1\u001b[0m \u001b[0;32mimport\u001b[0m \u001b[0mnumpy\u001b[0m \u001b[0;32mas\u001b[0m \u001b[0mnp\u001b[0m\u001b[0;34m\u001b[0m\u001b[0;34m\u001b[0m\u001b[0m\n\u001b[0;32m----> 2\u001b[0;31m \u001b[0msumOfSquare\u001b[0m \u001b[0;34m=\u001b[0m \u001b[0mnp\u001b[0m\u001b[0;34m.\u001b[0m\u001b[0msum\u001b[0m\u001b[0;34m(\u001b[0m\u001b[0mnp\u001b[0m\u001b[0;34m.\u001b[0m\u001b[0msquare\u001b[0m\u001b[0;34m(\u001b[0m\u001b[0mdata\u001b[0m\u001b[0;34m[\u001b[0m\u001b[0;34m'Scores'\u001b[0m\u001b[0;34m]\u001b[0m\u001b[0;34m.\u001b[0m\u001b[0mto_numpy\u001b[0m\u001b[0;34m(\u001b[0m\u001b[0;34m)\u001b[0m \u001b[0;34m-\u001b[0m \u001b[0mdata\u001b[0m\u001b[0;34m[\u001b[0m\u001b[0;34m'Hours'\u001b[0m\u001b[0;34m]\u001b[0m\u001b[0;34m.\u001b[0m\u001b[0mto_numpy\u001b[0m\u001b[0;34m(\u001b[0m\u001b[0;34m)\u001b[0m\u001b[0;34m)\u001b[0m\u001b[0;34m)\u001b[0m\u001b[0;34m\u001b[0m\u001b[0;34m\u001b[0m\u001b[0m\n\u001b[0m\u001b[1;32m      3\u001b[0m \u001b[0mprint\u001b[0m\u001b[0;34m(\u001b[0m\u001b[0;34m\"Sum of Square = {}\"\u001b[0m\u001b[0;34m.\u001b[0m\u001b[0mformat\u001b[0m\u001b[0;34m(\u001b[0m\u001b[0msumOfSquare\u001b[0m\u001b[0;34m)\u001b[0m\u001b[0;34m)\u001b[0m\u001b[0;34m\u001b[0m\u001b[0;34m\u001b[0m\u001b[0m\n",
            "\u001b[0;31mNameError\u001b[0m: name 'data' is not defined"
          ]
        }
      ]
    }
  ]
}