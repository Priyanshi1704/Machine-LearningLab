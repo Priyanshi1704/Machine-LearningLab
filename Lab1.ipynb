{
  "nbformat": 4,
  "nbformat_minor": 0,
  "metadata": {
    "colab": {
      "name": "Untitled0.ipynb",
      "provenance": [],
      "toc_visible": true,
      "authorship_tag": "ABX9TyMnK2AY3KF/YvSCETkOr2Yv",
      "include_colab_link": true
    },
    "kernelspec": {
      "name": "python3",
      "display_name": "Python 3"
    },
    "language_info": {
      "name": "python"
    }
  },
  "cells": [
    {
      "cell_type": "markdown",
      "metadata": {
        "id": "view-in-github",
        "colab_type": "text"
      },
      "source": [
        "<a href=\"https://colab.research.google.com/github/Priyanshi1704/Machine-LearningLab/blob/main/Lab1.ipynb\" target=\"_parent\"><img src=\"https://colab.research.google.com/assets/colab-badge.svg\" alt=\"Open In Colab\"/></a>"
      ]
    },
    {
      "cell_type": "markdown",
      "metadata": {
        "id": "4uwCRrAMH8WW"
      },
      "source": [
        ""
      ]
    },
    {
      "cell_type": "markdown",
      "metadata": {
        "id": "wUP20BlNIF8d"
      },
      "source": [
        "#Part1: Numpy basics"
      ]
    },
    {
      "cell_type": "markdown",
      "metadata": {
        "id": "DrgmTqrNIm1a"
      },
      "source": [
        ""
      ]
    },
    {
      "cell_type": "code",
      "metadata": {
        "colab": {
          "base_uri": "https://localhost:8080/"
        },
        "id": "_CuXK7FUNMAU",
        "outputId": "3d31a1db-2933-49bf-97e1-f26dded2b633"
      },
      "source": [
        "#Write a NumPy program to create an array of 10 zeros,10 ones,10 fives\n",
        "\n",
        "import numpy as np\n",
        "arr0=np.zeros(10,int)\n",
        "print(arr0)\n",
        "arr1=np.ones(10,int)\n",
        "print(arr1)\n",
        "arr2=(arr1)*5\n",
        "print(arr2)\n",
        "arr=np.concatenate((arr0,arr1,arr2))\n",
        "print(arr)"
      ],
      "execution_count": 37,
      "outputs": [
        {
          "output_type": "stream",
          "text": [
            "[0 0 0 0 0 0 0 0 0 0]\n",
            "[1 1 1 1 1 1 1 1 1 1]\n",
            "[5 5 5 5 5 5 5 5 5 5]\n",
            "[0 0 0 0 0 0 0 0 0 0 1 1 1 1 1 1 1 1 1 1 5 5 5 5 5 5 5 5 5 5]\n"
          ],
          "name": "stdout"
        }
      ]
    },
    {
      "cell_type": "code",
      "metadata": {
        "colab": {
          "base_uri": "https://localhost:8080/"
        },
        "id": "J9AcRzBSRrdI",
        "outputId": "c96867b7-6c8c-4f78-a28c-479086aa2ae2"
      },
      "source": [
        "#Write a NumPy program to create an array of all the even integers from 10 to 50\n",
        "\n",
        "import numpy as np\n",
        "arr=np.arange(10,51,2)\n",
        "print(arr)"
      ],
      "execution_count": 23,
      "outputs": [
        {
          "output_type": "stream",
          "text": [
            "[10 12 14 16 18 20 22 24 26 28 30 32 34 36 38 40 42 44 46 48 50]\n"
          ],
          "name": "stdout"
        }
      ]
    },
    {
      "cell_type": "code",
      "metadata": {
        "colab": {
          "base_uri": "https://localhost:8080/"
        },
        "id": "WHBxKcd6SZvS",
        "outputId": "ec42c35d-ddb6-4b9b-f3d3-3440b6b369e8"
      },
      "source": [
        "#Write a NumPy program to generate a random number between 0 and 1\n",
        "\n",
        "import numpy as np\n",
        "num=np.random.rand(1)\n",
        "print(num)"
      ],
      "execution_count": 29,
      "outputs": [
        {
          "output_type": "stream",
          "text": [
            "[0.27842467]\n"
          ],
          "name": "stdout"
        }
      ]
    },
    {
      "cell_type": "code",
      "metadata": {
        "colab": {
          "base_uri": "https://localhost:8080/"
        },
        "id": "WqZ5yAzpTaDT",
        "outputId": "84a53414-200f-4bf3-de3f-d13cb5b2ceab"
      },
      "source": [
        "#Write a NumPy program to save the matrix (generated in question 3) to a text file and load it\n",
        "import numpy as np\n",
        "arr=np.random.rand(6).reshape(2,3)\n",
        "print(arr)\n",
        "\n",
        "np.savetxt(\"file.txt\", arr)\n",
        "content = np.loadtxt('file.txt')\n",
        "print(\"\\nContent in file.txt:\\n\", content)\n"
      ],
      "execution_count": 36,
      "outputs": [
        {
          "output_type": "stream",
          "text": [
            "[[0.16612916 0.35501735 0.42773174]\n",
            " [0.34928783 0.15626378 0.60070437]]\n",
            "\n",
            "Content in file.txt:\n",
            " [[0.16612916 0.35501735 0.42773174]\n",
            " [0.34928783 0.15626378 0.60070437]]\n"
          ],
          "name": "stdout"
        }
      ]
    },
    {
      "cell_type": "markdown",
      "metadata": {
        "id": "CfJN53W5WgtS"
      },
      "source": [
        "# Part 2: Pandas Excel"
      ]
    },
    {
      "cell_type": "code",
      "metadata": {
        "colab": {
          "base_uri": "https://localhost:8080/"
        },
        "id": "CojiSknsWrbG",
        "outputId": "f6f0f9bc-efa5-47dd-f3b3-7f32c0007dc4"
      },
      "source": [
        "#Write a python program to read an image and save the image as a matrix to a .csv file using pandas\n",
        "\n",
        "# Import required libraries\n",
        "import numpy as np\n",
        "import matplotlib.image as img\n",
        "import pandas as pd\n",
        "\n",
        "# Read an image\n",
        "imageMat = img.imread('input.jpg')\n",
        "print(\"Current image shape:\",imageMat.shape)\n"
      ],
      "execution_count": 47,
      "outputs": [
        {
          "output_type": "stream",
          "text": [
            "Current image shape: (1203, 975, 3)\n"
          ],
          "name": "stdout"
        }
      ]
    },
    {
      "cell_type": "code",
      "metadata": {
        "colab": {
          "base_uri": "https://localhost:8080/"
        },
        "id": "YIaV8MoudjPS",
        "outputId": "4a223e16-fdc7-48bb-b8c6-088cd187890b"
      },
      "source": [
        "if (imageMat.shape[2] == 3): # If image is colored i.e the RGB Image then reshape it from 3D matrice to 2D matrice.\n",
        "  imageMat_reshape = imageMat.reshape(imageMat.shape[0],-2)\n",
        "  print(\"Reshaping the 3D array to a 2D array:\", imageMat_reshape.shape)\n",
        "\n",
        "else: # If image is grayscale remain as it is\n",
        "  imageMat_reshape = imageMat\n",
        "\n",
        "mat_df = pd.DataFrame(imageMat_reshape) # converting the image matrix to a dataframe using the pandas library imported as pd \n",
        "\n",
        "mat_df.to_csv('output.csv', header = None, index = None) # Exporting the dataframe to a CSV file."
      ],
      "execution_count": 56,
      "outputs": [
        {
          "output_type": "stream",
          "text": [
            "Reshaping the 3D array to a 2D array: (1203, 2925)\n"
          ],
          "name": "stdout"
        }
      ]
    },
    {
      "cell_type": "code",
      "metadata": {
        "colab": {
          "base_uri": "https://localhost:8080/"
        },
        "id": "k8CIMsyqfi7j",
        "outputId": "1b9dc084-c659-4a95-89fe-61f182fbca2e"
      },
      "source": [
        "#Write a program to import excel data from the .csv file (generated in question 1) by excluding the last row and last column\n",
        "\n",
        "try:\n",
        "  df = pd.read_csv('output.csv', sep = ',', header = None) # retrieving dataframe from CSV file\n",
        "  # Getting matrice values.\n",
        "  print(\"Before dataframe shape: \",df.shape)\n",
        "  df.drop(df.tail(1).index,inplace=True) # drop the last 1 rows\n",
        "  df.drop(columns=df.columns[-1:], axis=1,inplace=True) #  drop the last column\n",
        "  \n",
        "  print(\"After dataframe shape: \",df.shape)\n",
        "\n",
        "except FileNotFoundError:\n",
        "  print('output.csv File not found! Try Again')\n",
        "\n",
        "except Exception: # If any other error occurs, print the file name\n",
        "  print('Another Error occured!! Try Again')\n",
        "\n"
      ],
      "execution_count": 50,
      "outputs": [
        {
          "output_type": "stream",
          "text": [
            "Before dataframe shape:  (1203, 2925)\n",
            "After dataframe shape:  (1202, 2924)\n"
          ],
          "name": "stdout"
        }
      ]
    },
    {
      "cell_type": "code",
      "metadata": {
        "colab": {
          "base_uri": "https://localhost:8080/"
        },
        "id": "IJWeUGGyf4HH",
        "outputId": "fbccf6c8-0c9e-48e4-fd12-0f4c1bb4843c"
      },
      "source": [
        "#Write a Pandas program to create the today's date\n",
        "\n",
        "import pandas as pd\n",
        "from datetime import datetime\n",
        "now = pd.to_datetime(str(datetime.now()), format='%Y-%m-%d')\n",
        "print(\"Today's date: in <Year><month><date> <hour><min><sec><ns> format\")\n",
        "print(now)"
      ],
      "execution_count": 51,
      "outputs": [
        {
          "output_type": "stream",
          "text": [
            "Today's date: in <Year><month><date> <hour><min><sec><ns> format\n",
            "2021-08-09 06:00:49.399458\n"
          ],
          "name": "stdout"
        }
      ]
    },
    {
      "cell_type": "markdown",
      "metadata": {
        "id": "yqQEJNlEgGF-"
      },
      "source": [
        "\n",
        "Part-3\n",
        ". **Create a mini calculator to know the age of a person after putting the range (i.e. date of birth and current date)**"
      ]
    },
    {
      "cell_type": "code",
      "metadata": {
        "colab": {
          "base_uri": "https://localhost:8080/"
        },
        "id": "xJj_lvdngJSI",
        "outputId": "31dec97a-55bd-4faf-f338-8af7277f04d8"
      },
      "source": [
        "from datetime import date\n",
        "\n",
        "def calculateAge(birthDate):\n",
        "  days_in_year = 365.2425\n",
        "  total_days = (date.today() - birthDate).days\n",
        "  age = int((date.today() - birthDate).days / days_in_year)\n",
        "  months = total_days - age*days_in_year\n",
        "  months = months//30\n",
        "  days = total_days - months*30 - age*days_in_year\n",
        "  return age, months, days\n",
        "\n",
        "# Driver code\n",
        "print(calculateAge(date(2001, 4, 17)), \"years\")\n",
        "print(calculateAge(date(1997, 2, 3)), \"years\")\n",
        "\n",
        "while True:\n",
        "  try:\n",
        "    day = int(input(\"Please enter date of birthday: \"))\n",
        "    break\n",
        "  except ValueError:\n",
        "    print(\"Error! Try Again:\")\n",
        "    day = int(input(\"Please enter  date of birthday: \"))\n",
        "    break\n",
        "while True:\n",
        "  try:\n",
        "    month = int(input(\"Please enter your birth month\"))\n",
        "    break\n",
        "  except ValueError:\n",
        "    print(\"Error! Try Again:\")\n",
        "    month = int(input(\"Please enter your birth month\"))\n",
        "    break\n",
        "while True:\n",
        "  try:\n",
        "    year = int(input(\"Please enter your birth year\"))\n",
        "    break\n",
        "  except:\n",
        "    print(\"Error! Try Again:\")\n",
        "    year = int(input(\"Please enter your birth year\"))\n",
        "    break\n",
        "year, months, days = calculateAge(date(year*1, month*1, day*1))\n",
        "print(\"You are\",year,\"years,\", abs(int(months*1)),\"months\",\"and\",abs(int(days*1)) ,\"days old.\")"
      ],
      "execution_count": 55,
      "outputs": [
        {
          "output_type": "stream",
          "text": [
            "(20, 3.0, 24.149999999999636) years\n",
            "(24, 6.0, 7.180000000000291) years\n",
            "Please enter date of birthday: 17\n",
            "Please enter your birth month04\n",
            "Please enter your birth year2002\n",
            "You are 19 years, 3 months and 24 days old.\n"
          ],
          "name": "stdout"
        }
      ]
    }
  ]
}