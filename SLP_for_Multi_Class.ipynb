{
  "nbformat": 4,
  "nbformat_minor": 0,
  "metadata": {
    "colab": {
      "name": "SLP for Multi-Class.ipynb",
      "provenance": [],
      "authorship_tag": "ABX9TyOb1YD+1WZ79ECq6JID+3vH",
      "include_colab_link": true
    },
    "kernelspec": {
      "name": "python3",
      "display_name": "Python 3"
    },
    "language_info": {
      "name": "python"
    }
  },
  "cells": [
    {
      "cell_type": "markdown",
      "metadata": {
        "id": "view-in-github",
        "colab_type": "text"
      },
      "source": [
        "<a href=\"https://colab.research.google.com/github/Priyanshi1704/Machine-LearningLab/blob/main/SLP_for_Multi_Class.ipynb\" target=\"_parent\"><img src=\"https://colab.research.google.com/assets/colab-badge.svg\" alt=\"Open In Colab\"/></a>"
      ]
    },
    {
      "cell_type": "code",
      "metadata": {
        "id": "ZXu4HoVEgcRJ"
      },
      "source": [
        "import numpy as np\n",
        "import pandas as pd\n",
        "from sklearn import datasets"
      ],
      "execution_count": 28,
      "outputs": []
    },
    {
      "cell_type": "code",
      "metadata": {
        "id": "pmUGfIZ_ggBy"
      },
      "source": [
        "from sklearn import preprocessing\n",
        "sx = preprocessing.MinMaxScaler()\n",
        "sy = preprocessing.MinMaxScaler()\n",
        "from sklearn.metrics import accuracy_score\n",
        "from matplotlib import pyplot as plt\n",
        "from sklearn.datasets import load_wine"
      ],
      "execution_count": 29,
      "outputs": []
    },
    {
      "cell_type": "code",
      "metadata": {
        "colab": {
          "base_uri": "https://localhost:8080/"
        },
        "id": "1VwzIGsQoFUw",
        "outputId": "e6ef0b4e-7de0-4ff8-996b-7f53028eb677"
      },
      "source": [
        "wine = datasets.load_wine()\n",
        "wine.feature_names\n",
        "data = pd.DataFrame(wine.data)\n",
        "\n",
        "# normalize the dataset\n",
        "max_val=max(data.max())\n",
        "data =data/max_val\n",
        "\n",
        "data.columns = wine.feature_names\n",
        "data\n",
        "wine.target.shape\n",
        "data['target'] = wine.target\n",
        "\n",
        "# number of classes\n",
        "print(\"number of classes\",len(pd.unique(data['target'])))\n",
        "\n",
        "data\n",
        "train, test = np.split(data.sample(frac=1),[int(.7*len(data))])\n",
        "\n",
        "#Trainig dataset\n",
        "train_X =train.drop('target',axis='columns').values\n",
        "\n",
        "train_X\n",
        "train_Y = train['target'].values\n",
        "train_Y\n",
        "\n",
        "#test dataset\n",
        "test_X =test.drop('target',axis='columns').values\n",
        "test_X\n",
        "test_Y = test['target'].values\n",
        "test_Y"
      ],
      "execution_count": 41,
      "outputs": [
        {
          "output_type": "stream",
          "name": "stdout",
          "text": [
            "number of classes 3\n"
          ]
        },
        {
          "output_type": "execute_result",
          "data": {
            "text/plain": [
              "array([0, 2, 2, 2, 1, 0, 1, 1, 1, 1, 0, 1, 0, 1, 0, 2, 2, 1, 0, 0, 0, 1,\n",
              "       2, 1, 1, 1, 2, 2, 0, 0, 1, 0, 0, 1, 0, 1, 0, 2, 1, 0, 1, 1, 0, 0,\n",
              "       0, 2, 2, 1, 1, 2, 0, 0, 1, 0])"
            ]
          },
          "metadata": {},
          "execution_count": 41
        }
      ]
    },
    {
      "cell_type": "code",
      "metadata": {
        "id": "vCORbbfWgf7_"
      },
      "source": [
        "# one hot encoding here number of classes is three\n",
        "def oneHotEncoding(Y):\n",
        "  y1 = []\n",
        "  y2 = []\n",
        "  y3 = []\n",
        "  \n",
        "  for i in range(0 , len(Y)):\n",
        "    if (Y[i] == 0):\n",
        "      y1.append(1)\n",
        "      y2.append(0)\n",
        "      y3.append(0)\n",
        "     \n",
        "    elif (Y[i] == 1):\n",
        "      y1.append(0)\n",
        "      y2.append(1)\n",
        "      y3.append(0)\n",
        "    \n",
        "    else :\n",
        "      y1.append(0)\n",
        "      y2.append(0)\n",
        "      y3.append(1)\n",
        "    \n",
        "  return y1 ,y2 ,y3"
      ],
      "execution_count": 32,
      "outputs": []
    },
    {
      "cell_type": "code",
      "metadata": {
        "id": "kl3uThW6ncHb"
      },
      "source": [
        "y1 , y2 , y3 = oneHotEncoding(train_Y)"
      ],
      "execution_count": 33,
      "outputs": []
    },
    {
      "cell_type": "code",
      "metadata": {
        "id": "GLR9htl3o432"
      },
      "source": [
        "def train_SLP(X , y1 , y2 , y3 , epoch, rho):\n",
        "  lr = 0.01\n",
        "  number_of_features = X.shape[1]\n",
        "  \n",
        "  w1 = np.ones(shape=(number_of_features))*0.1\n",
        "  b1 = 0.1\n",
        "  \n",
        "  w2 = np.ones(shape=(number_of_features))*0.1\n",
        "  b2 = 0.1\n",
        "  \n",
        "  w3 = np.ones(shape=(number_of_features))*0.1\n",
        "  b3 = 0.1\n",
        "  \n",
        "  error = []\n",
        "  for i in range(epoch ):\n",
        "    errorItr = 0;\n",
        "    for j in range(len(X)):\n",
        "       d1 = np.dot(w1, X[j].T) + b1\n",
        "       d1 = 1 if d1 > 0 else 0\n",
        "       d2 = np.dot(w2, X[j].T) + b3\n",
        "       d2 = 1 if d2 > 0 else 0\n",
        "       d3 = np.dot(w3, X[j].T) + b3\n",
        "       d3 = 1 if d3 > 0 else 0\n",
        "       \n",
        "       errorItr = errorItr + ((d1- y1[j])*(d1 - y1[j]) + (d2- y2[j])*(d2 - y2[j]) + (d3- y3[j])*(d3 - y3[j]))/2\n",
        "        \n",
        "      #  print(w1) \n",
        "       w1 = w1 + lr*(y1[j] - d1)*X[j].T\n",
        "      #  print(w1)\n",
        "       b1 = b1 + (y1[j] - d1)\n",
        "       \n",
        "      #  print(w2)\n",
        "       w2 = w2 + lr*(y2[j]- d2)*X[j].T\n",
        "      #  print(w2)\n",
        "       b2 = b2 + (y2[j]- d2)\n",
        "       \n",
        "      #  print(w3)\n",
        "       w3 = w3 + lr*(y3[j]- d3)*X[j].T\n",
        "      #  print(w3)\n",
        "       b3 = b3 + (y3[j]- d3)\n",
        "      \n",
        "    if (errorItr < rho):\n",
        "      return w1 , b1, w2 , b2 , w3 , b3\n",
        "   \n",
        "    \n",
        "  return w1 , b1, w2 , b2 , w3 , b3   \n",
        "       \n",
        "  \n"
      ],
      "execution_count": 38,
      "outputs": []
    },
    {
      "cell_type": "code",
      "metadata": {
        "id": "6zK-X3TohAZg"
      },
      "source": [
        "def predict_Y(w1 , b1, w2 ,b2 , w3, b3 , X):\n",
        "  y = []\n",
        "  \n",
        "  for i in range(len(X)):\n",
        "    d1 = np.dot(w1, X[i].T) + b1\n",
        "    \n",
        "    d2 = np.dot(w2, X[i].T) + b3\n",
        "  \n",
        "    d3 = np.dot(w3, X[i].T) + b3\n",
        "    \n",
        "  \n",
        "    if (d1 > d2 and d1 > d3):\n",
        "      y.append(0)\n",
        "    elif (d2 > d1 and d2 > d3):\n",
        "      y.append(1)\n",
        "    else :\n",
        "      y.append(2)\n",
        "   \n",
        "  return y\n"
      ],
      "execution_count": 39,
      "outputs": []
    },
    {
      "cell_type": "code",
      "metadata": {
        "colab": {
          "base_uri": "https://localhost:8080/"
        },
        "id": "vqL7NtaLhATE",
        "outputId": "9fd1eeba-66ce-42c8-f512-376a1d2bc5b1"
      },
      "source": [
        "from sklearn.metrics import accuracy_score\n",
        "w1 , b1, w2 , b2 , w3 , b3   = train_SLP(train_X , y1 , y2, y3, 1000, 0.00001)\n",
        "y_predicted = predict_Y(w1 , b1, w2 , b2 , w3 , b3 , test_X)\n",
        "y_predicted = np.array(y_predicted)\n",
        "print(y_predicted)\n",
        "print(accuracy_score(  test_Y , y_predicted ))"
      ],
      "execution_count": 40,
      "outputs": [
        {
          "output_type": "stream",
          "name": "stdout",
          "text": [
            "[2 2 0 2 2 0 0 2 2 1 2 0 0 1 2 1 0 1 0 1 0 2 2 2 2 1 0 0 0 0 0 0 0 2 2 2 2\n",
            " 0 0 2 0 1 2 1 0]\n",
            "0.8222222222222222\n"
          ]
        }
      ]
    },
    {
      "cell_type": "code",
      "metadata": {
        "id": "fMOzJRS0hAPn"
      },
      "source": [
        ""
      ],
      "execution_count": null,
      "outputs": []
    }
  ]
}