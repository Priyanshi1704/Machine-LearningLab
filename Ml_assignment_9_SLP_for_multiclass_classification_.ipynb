{
  "nbformat": 4,
  "nbformat_minor": 0,
  "metadata": {
    "colab": {
      "name": "Ml assignment - 9 SLP for multiclass classification .ipynb",
      "provenance": [],
      "collapsed_sections": [],
      "include_colab_link": true
    },
    "kernelspec": {
      "name": "python3",
      "display_name": "Python 3"
    },
    "language_info": {
      "name": "python"
    }
  },
  "cells": [
    {
      "cell_type": "markdown",
      "metadata": {
        "id": "view-in-github",
        "colab_type": "text"
      },
      "source": [
        "<a href=\"https://colab.research.google.com/github/Priyanshi1704/Machine-LearningLab/blob/main/Ml_assignment_9_SLP_for_multiclass_classification_.ipynb\" target=\"_parent\"><img src=\"https://colab.research.google.com/assets/colab-badge.svg\" alt=\"Open In Colab\"/></a>"
      ]
    },
    {
      "cell_type": "code",
      "metadata": {
        "id": "LtslkPKz6hTU"
      },
      "source": [
        "import pandas as pd\n",
        "import numpy as np\n",
        "import matplotlib.pyplot as plt\n",
        "import seaborn as sns\n",
        "import random\n",
        "import warnings\n",
        "from matplotlib import pyplot as plt\n",
        "warnings.filterwarnings('default')\n",
        "from sklearn.utils import shuffle\n",
        "from sklearn.metrics import confusion_matrix, precision_score, recall_score, f1_score, accuracy_score, classification_report"
      ],
      "execution_count": null,
      "outputs": []
    },
    {
      "cell_type": "markdown",
      "metadata": {
        "id": "wjBfQHGjj7d3"
      },
      "source": [
        "# DataSet Loading and Data preprocessing"
      ]
    },
    {
      "cell_type": "code",
      "metadata": {
        "id": "d2NiDqXdmkqD",
        "colab": {
          "base_uri": "https://localhost:8080/",
          "height": 35
        },
        "outputId": "c761938f-e600-418e-e98f-045c26bba43f"
      },
      "source": [
        "# Iris Dataset\n",
        "from sklearn import datasets\n",
        "data = datasets.load_iris()\n",
        "'''\n",
        "# Wine Dataset\n",
        "from sklearn.datasets import load_wine\n",
        "data = load_wine()\n",
        "'''"
      ],
      "execution_count": null,
      "outputs": [
        {
          "output_type": "execute_result",
          "data": {
            "application/vnd.google.colaboratory.intrinsic+json": {
              "type": "string"
            },
            "text/plain": [
              "'\\n# Wine Dataset\\nfrom sklearn.datasets import load_wine\\ndata = load_wine()\\n'"
            ]
          },
          "metadata": {},
          "execution_count": 29
        }
      ]
    },
    {
      "cell_type": "code",
      "metadata": {
        "colab": {
          "base_uri": "https://localhost:8080/"
        },
        "id": "UAgtd79DmktA",
        "outputId": "859acb5d-1dd2-4de7-a8f7-b36228356c4d"
      },
      "source": [
        "print(\"The dictonary keys are associated with data:\\n\", data.keys())\n",
        "print(\"-\"*100)\n",
        "print(\"Data:\\n\", data['data'])\n",
        "print(\"-\"*100)\n",
        "print(\"Name of the features (Independent features): \\n\", data['feature_names'])\n",
        "print(\"-\"*100)\n",
        "print(\"Name of the dependent features: \", data['target_names'])\n",
        "print(\"-\"*100)"
      ],
      "execution_count": null,
      "outputs": [
        {
          "output_type": "stream",
          "name": "stdout",
          "text": [
            "The dictonary keys are associated with data:\n",
            " dict_keys(['data', 'target', 'target_names', 'DESCR', 'feature_names', 'filename'])\n",
            "----------------------------------------------------------------------------------------------------\n",
            "Data:\n",
            " [[5.1 3.5 1.4 0.2]\n",
            " [4.9 3.  1.4 0.2]\n",
            " [4.7 3.2 1.3 0.2]\n",
            " [4.6 3.1 1.5 0.2]\n",
            " [5.  3.6 1.4 0.2]\n",
            " [5.4 3.9 1.7 0.4]\n",
            " [4.6 3.4 1.4 0.3]\n",
            " [5.  3.4 1.5 0.2]\n",
            " [4.4 2.9 1.4 0.2]\n",
            " [4.9 3.1 1.5 0.1]\n",
            " [5.4 3.7 1.5 0.2]\n",
            " [4.8 3.4 1.6 0.2]\n",
            " [4.8 3.  1.4 0.1]\n",
            " [4.3 3.  1.1 0.1]\n",
            " [5.8 4.  1.2 0.2]\n",
            " [5.7 4.4 1.5 0.4]\n",
            " [5.4 3.9 1.3 0.4]\n",
            " [5.1 3.5 1.4 0.3]\n",
            " [5.7 3.8 1.7 0.3]\n",
            " [5.1 3.8 1.5 0.3]\n",
            " [5.4 3.4 1.7 0.2]\n",
            " [5.1 3.7 1.5 0.4]\n",
            " [4.6 3.6 1.  0.2]\n",
            " [5.1 3.3 1.7 0.5]\n",
            " [4.8 3.4 1.9 0.2]\n",
            " [5.  3.  1.6 0.2]\n",
            " [5.  3.4 1.6 0.4]\n",
            " [5.2 3.5 1.5 0.2]\n",
            " [5.2 3.4 1.4 0.2]\n",
            " [4.7 3.2 1.6 0.2]\n",
            " [4.8 3.1 1.6 0.2]\n",
            " [5.4 3.4 1.5 0.4]\n",
            " [5.2 4.1 1.5 0.1]\n",
            " [5.5 4.2 1.4 0.2]\n",
            " [4.9 3.1 1.5 0.2]\n",
            " [5.  3.2 1.2 0.2]\n",
            " [5.5 3.5 1.3 0.2]\n",
            " [4.9 3.6 1.4 0.1]\n",
            " [4.4 3.  1.3 0.2]\n",
            " [5.1 3.4 1.5 0.2]\n",
            " [5.  3.5 1.3 0.3]\n",
            " [4.5 2.3 1.3 0.3]\n",
            " [4.4 3.2 1.3 0.2]\n",
            " [5.  3.5 1.6 0.6]\n",
            " [5.1 3.8 1.9 0.4]\n",
            " [4.8 3.  1.4 0.3]\n",
            " [5.1 3.8 1.6 0.2]\n",
            " [4.6 3.2 1.4 0.2]\n",
            " [5.3 3.7 1.5 0.2]\n",
            " [5.  3.3 1.4 0.2]\n",
            " [7.  3.2 4.7 1.4]\n",
            " [6.4 3.2 4.5 1.5]\n",
            " [6.9 3.1 4.9 1.5]\n",
            " [5.5 2.3 4.  1.3]\n",
            " [6.5 2.8 4.6 1.5]\n",
            " [5.7 2.8 4.5 1.3]\n",
            " [6.3 3.3 4.7 1.6]\n",
            " [4.9 2.4 3.3 1. ]\n",
            " [6.6 2.9 4.6 1.3]\n",
            " [5.2 2.7 3.9 1.4]\n",
            " [5.  2.  3.5 1. ]\n",
            " [5.9 3.  4.2 1.5]\n",
            " [6.  2.2 4.  1. ]\n",
            " [6.1 2.9 4.7 1.4]\n",
            " [5.6 2.9 3.6 1.3]\n",
            " [6.7 3.1 4.4 1.4]\n",
            " [5.6 3.  4.5 1.5]\n",
            " [5.8 2.7 4.1 1. ]\n",
            " [6.2 2.2 4.5 1.5]\n",
            " [5.6 2.5 3.9 1.1]\n",
            " [5.9 3.2 4.8 1.8]\n",
            " [6.1 2.8 4.  1.3]\n",
            " [6.3 2.5 4.9 1.5]\n",
            " [6.1 2.8 4.7 1.2]\n",
            " [6.4 2.9 4.3 1.3]\n",
            " [6.6 3.  4.4 1.4]\n",
            " [6.8 2.8 4.8 1.4]\n",
            " [6.7 3.  5.  1.7]\n",
            " [6.  2.9 4.5 1.5]\n",
            " [5.7 2.6 3.5 1. ]\n",
            " [5.5 2.4 3.8 1.1]\n",
            " [5.5 2.4 3.7 1. ]\n",
            " [5.8 2.7 3.9 1.2]\n",
            " [6.  2.7 5.1 1.6]\n",
            " [5.4 3.  4.5 1.5]\n",
            " [6.  3.4 4.5 1.6]\n",
            " [6.7 3.1 4.7 1.5]\n",
            " [6.3 2.3 4.4 1.3]\n",
            " [5.6 3.  4.1 1.3]\n",
            " [5.5 2.5 4.  1.3]\n",
            " [5.5 2.6 4.4 1.2]\n",
            " [6.1 3.  4.6 1.4]\n",
            " [5.8 2.6 4.  1.2]\n",
            " [5.  2.3 3.3 1. ]\n",
            " [5.6 2.7 4.2 1.3]\n",
            " [5.7 3.  4.2 1.2]\n",
            " [5.7 2.9 4.2 1.3]\n",
            " [6.2 2.9 4.3 1.3]\n",
            " [5.1 2.5 3.  1.1]\n",
            " [5.7 2.8 4.1 1.3]\n",
            " [6.3 3.3 6.  2.5]\n",
            " [5.8 2.7 5.1 1.9]\n",
            " [7.1 3.  5.9 2.1]\n",
            " [6.3 2.9 5.6 1.8]\n",
            " [6.5 3.  5.8 2.2]\n",
            " [7.6 3.  6.6 2.1]\n",
            " [4.9 2.5 4.5 1.7]\n",
            " [7.3 2.9 6.3 1.8]\n",
            " [6.7 2.5 5.8 1.8]\n",
            " [7.2 3.6 6.1 2.5]\n",
            " [6.5 3.2 5.1 2. ]\n",
            " [6.4 2.7 5.3 1.9]\n",
            " [6.8 3.  5.5 2.1]\n",
            " [5.7 2.5 5.  2. ]\n",
            " [5.8 2.8 5.1 2.4]\n",
            " [6.4 3.2 5.3 2.3]\n",
            " [6.5 3.  5.5 1.8]\n",
            " [7.7 3.8 6.7 2.2]\n",
            " [7.7 2.6 6.9 2.3]\n",
            " [6.  2.2 5.  1.5]\n",
            " [6.9 3.2 5.7 2.3]\n",
            " [5.6 2.8 4.9 2. ]\n",
            " [7.7 2.8 6.7 2. ]\n",
            " [6.3 2.7 4.9 1.8]\n",
            " [6.7 3.3 5.7 2.1]\n",
            " [7.2 3.2 6.  1.8]\n",
            " [6.2 2.8 4.8 1.8]\n",
            " [6.1 3.  4.9 1.8]\n",
            " [6.4 2.8 5.6 2.1]\n",
            " [7.2 3.  5.8 1.6]\n",
            " [7.4 2.8 6.1 1.9]\n",
            " [7.9 3.8 6.4 2. ]\n",
            " [6.4 2.8 5.6 2.2]\n",
            " [6.3 2.8 5.1 1.5]\n",
            " [6.1 2.6 5.6 1.4]\n",
            " [7.7 3.  6.1 2.3]\n",
            " [6.3 3.4 5.6 2.4]\n",
            " [6.4 3.1 5.5 1.8]\n",
            " [6.  3.  4.8 1.8]\n",
            " [6.9 3.1 5.4 2.1]\n",
            " [6.7 3.1 5.6 2.4]\n",
            " [6.9 3.1 5.1 2.3]\n",
            " [5.8 2.7 5.1 1.9]\n",
            " [6.8 3.2 5.9 2.3]\n",
            " [6.7 3.3 5.7 2.5]\n",
            " [6.7 3.  5.2 2.3]\n",
            " [6.3 2.5 5.  1.9]\n",
            " [6.5 3.  5.2 2. ]\n",
            " [6.2 3.4 5.4 2.3]\n",
            " [5.9 3.  5.1 1.8]]\n",
            "----------------------------------------------------------------------------------------------------\n",
            "Name of the features (Independent features): \n",
            " ['sepal length (cm)', 'sepal width (cm)', 'petal length (cm)', 'petal width (cm)']\n",
            "----------------------------------------------------------------------------------------------------\n",
            "Name of the dependent features:  ['setosa' 'versicolor' 'virginica']\n",
            "----------------------------------------------------------------------------------------------------\n"
          ]
        }
      ]
    },
    {
      "cell_type": "code",
      "metadata": {
        "id": "jBOXSkR2MaGX",
        "colab": {
          "base_uri": "https://localhost:8080/"
        },
        "outputId": "a1079fe4-0932-4e73-c6a0-19eee926aaca"
      },
      "source": [
        "y_actual = np.array(data['target'])\n",
        "features = np.array(data['data'])\n",
        "print(\"No of the feature vectors: %d\"%features.shape[1])\n",
        "print(\"No of the Patterns: %d\"%features.shape[0])\n",
        "print(\"No of classes:\", list(set(data['target'])))"
      ],
      "execution_count": null,
      "outputs": [
        {
          "output_type": "stream",
          "name": "stdout",
          "text": [
            "No of the feature vectors: 4\n",
            "No of the Patterns: 150\n",
            "No of classes: [0, 1, 2]\n"
          ]
        }
      ]
    },
    {
      "cell_type": "code",
      "metadata": {
        "colab": {
          "base_uri": "https://localhost:8080/",
          "height": 368
        },
        "id": "b3VOsHY6h3HT",
        "outputId": "a8bd78bc-3844-43b1-82ae-8f9da64327e7"
      },
      "source": [
        "import matplotlib.pyplot as plt\n",
        "import seaborn as sns\n",
        "iris = sns.load_dataset(\"iris\")\n",
        "iris[\"ID\"] = iris.index\n",
        "iris[\"ratio\"] = iris[\"sepal_length\"]/iris[\"sepal_width\"]\n",
        "\n",
        "sns.lmplot(x=\"ID\", y=\"ratio\", data=iris, hue=\"species\", fit_reg=False, legend=False)\n",
        "\n",
        "plt.legend()\n",
        "plt.show()"
      ],
      "execution_count": null,
      "outputs": [
        {
          "output_type": "display_data",
          "data": {
            "image/png": "[encoded data removed]",
            "text/plain": [
              "<Figure size 360x360 with 1 Axes>"
            ]
          },
          "metadata": {
            "needs_background": "light"
          }
        }
      ]
    },
    {
      "cell_type": "code",
      "metadata": {
        "id": "TAVaYqWDmPyJ"
      },
      "source": [
        "# data preprocessing (min max scalling)\n",
        "from sklearn.preprocessing import MinMaxScaler\n",
        "scaler = MinMaxScaler()\n",
        "scaler.fit(features)\n",
        "features = scaler.transform(features)"
      ],
      "execution_count": null,
      "outputs": []
    },
    {
      "cell_type": "code",
      "metadata": {
        "id": "Dt2MIE22vX9H"
      },
      "source": [
        "# shuffel the datasample\n",
        "from sklearn.utils import shuffle\n",
        "import numpy as np\n",
        "features, y_actual = shuffle(features, y_actual)"
      ],
      "execution_count": null,
      "outputs": []
    },
    {
      "cell_type": "markdown",
      "metadata": {
        "id": "7bh83KJ9Z3eq"
      },
      "source": [
        "# Train Set, Validation Set and Test Set (Just for checking)"
      ]
    },
    {
      "cell_type": "code",
      "metadata": {
        "colab": {
          "base_uri": "https://localhost:8080/"
        },
        "id": "bKhh1VCNmd6k",
        "outputId": "7b9851f4-5456-45a5-9189-066e46fb5a71"
      },
      "source": [
        "# Train test validation\n",
        "from sklearn.model_selection import train_test_split\n",
        "import random\n",
        "# train(70%), validation (10%), and test(20%)\n",
        "X_train, X_test, y_train, y_test = train_test_split(features,y_actual , test_size=0.3, random_state=random.randint(30,100))\n",
        "X_test, X_validation, y_test, y_validation = train_test_split(X_test, y_test, test_size=0.14, random_state=random.randint(30,100))\n",
        "print(\"Size of the train dataset:\" + str(X_train.shape))\n",
        "print(\"Size of the validation dataset:\" + str(X_validation.shape))\n",
        "print(\"Size of the test dataset:\" + str(X_test.shape))"
      ],
      "execution_count": null,
      "outputs": [
        {
          "output_type": "stream",
          "name": "stdout",
          "text": [
            "Size of the train dataset:(105, 4)\n",
            "Size of the validation dataset:(7, 4)\n",
            "Size of the test dataset:(38, 4)\n"
          ]
        }
      ]
    },
    {
      "cell_type": "markdown",
      "metadata": {
        "id": "lPVLuQU8ogX2"
      },
      "source": [
        "# 5 fold cross validation"
      ]
    },
    {
      "cell_type": "code",
      "metadata": {
        "id": "56_KxpXDkkWY"
      },
      "source": [
        "import numpy as np\n",
        "from sklearn.model_selection import KFold\n",
        "def fold(features,y_actual):\n",
        "  kf = KFold(n_splits=5,random_state=1000, shuffle=True)\n",
        "  kf.get_n_splits(features)\n",
        "  print(kf)\n",
        "  all_x_train = []\n",
        "  all_x_test = []\n",
        "  all_y_train = []\n",
        "  all_y_test = []\n",
        "  for train_index, test_index in kf.split(features):\n",
        "    X_train, X_test = features[train_index], features[test_index]\n",
        "    y_train, y_test = y_actual[train_index], y_actual[test_index]\n",
        "    all_x_train.append(X_train)\n",
        "    all_x_test.append(X_test)\n",
        "    all_y_train.append(y_train)\n",
        "    all_y_test.append(y_test)\n",
        "  all_x_train, all_x_test, all_y_train, all_y_test  = np.array(all_x_train), np.array(all_x_test), np.array(all_y_train), np.array(all_y_test)\n",
        "  return all_x_train, all_x_test, all_y_train, all_y_test"
      ],
      "execution_count": null,
      "outputs": []
    },
    {
      "cell_type": "code",
      "metadata": {
        "colab": {
          "base_uri": "https://localhost:8080/"
        },
        "id": "MRN8_1KLkoBF",
        "outputId": "37209a3c-f7cb-4deb-9df9-2686f88ab899"
      },
      "source": [
        "all_x_train, all_x_test, all_y_train, all_y_test = fold(features,y_actual)"
      ],
      "execution_count": null,
      "outputs": [
        {
          "output_type": "stream",
          "name": "stdout",
          "text": [
            "KFold(n_splits=5, random_state=1000, shuffle=True)\n"
          ]
        }
      ]
    },
    {
      "cell_type": "code",
      "metadata": {
        "id": "JZAUHI56vDw7",
        "colab": {
          "base_uri": "https://localhost:8080/"
        },
        "outputId": "882f105c-bf8b-44be-b4dc-67a02ae804fa"
      },
      "source": [
        "print(all_x_train, all_x_test, all_y_train, all_y_test)"
      ],
      "execution_count": null,
      "outputs": [
        {
          "output_type": "stream",
          "name": "stdout",
          "text": [
            "[[[0.19444444 0.625      0.05084746 0.08333333]\n",
            "  [0.80555556 0.66666667 0.86440678 1.        ]\n",
            "  [0.02777778 0.5        0.05084746 0.04166667]\n",
            "  ...\n",
            "  [0.19444444 0.625      0.10169492 0.20833333]\n",
            "  [0.94444444 0.25       1.         0.91666667]\n",
            "  [0.33333333 0.625      0.05084746 0.04166667]]\n",
            "\n",
            " [[0.19444444 0.625      0.05084746 0.08333333]\n",
            "  [0.80555556 0.66666667 0.86440678 1.        ]\n",
            "  [0.02777778 0.5        0.05084746 0.04166667]\n",
            "  ...\n",
            "  [0.19444444 0.         0.42372881 0.375     ]\n",
            "  [0.55555556 0.29166667 0.66101695 0.70833333]\n",
            "  [0.33333333 0.625      0.05084746 0.04166667]]\n",
            "\n",
            " [[0.19444444 0.625      0.05084746 0.08333333]\n",
            "  [0.80555556 0.66666667 0.86440678 1.        ]\n",
            "  [0.02777778 0.5        0.05084746 0.04166667]\n",
            "  ...\n",
            "  [0.19444444 0.625      0.10169492 0.20833333]\n",
            "  [0.94444444 0.25       1.         0.91666667]\n",
            "  [0.33333333 0.625      0.05084746 0.04166667]]\n",
            "\n",
            " [[0.80555556 0.66666667 0.86440678 1.        ]\n",
            "  [0.25       0.29166667 0.49152542 0.54166667]\n",
            "  [0.55555556 0.58333333 0.77966102 0.95833333]\n",
            "  ...\n",
            "  [0.55555556 0.29166667 0.66101695 0.70833333]\n",
            "  [0.19444444 0.625      0.10169492 0.20833333]\n",
            "  [0.94444444 0.25       1.         0.91666667]]\n",
            "\n",
            " [[0.19444444 0.625      0.05084746 0.08333333]\n",
            "  [0.02777778 0.5        0.05084746 0.04166667]\n",
            "  [0.25       0.29166667 0.49152542 0.54166667]\n",
            "  ...\n",
            "  [0.19444444 0.625      0.10169492 0.20833333]\n",
            "  [0.94444444 0.25       1.         0.91666667]\n",
            "  [0.33333333 0.625      0.05084746 0.04166667]]] [[[0.55555556 0.58333333 0.77966102 0.95833333]\n",
            "  [0.13888889 0.58333333 0.15254237 0.04166667]\n",
            "  [0.44444444 0.41666667 0.69491525 0.70833333]\n",
            "  [0.13888889 0.41666667 0.06779661 0.        ]\n",
            "  [0.13888889 0.45833333 0.10169492 0.04166667]\n",
            "  [0.47222222 0.08333333 0.50847458 0.375     ]\n",
            "  [0.30555556 0.58333333 0.08474576 0.125     ]\n",
            "  [0.52777778 0.08333333 0.59322034 0.58333333]\n",
            "  [0.83333333 0.375      0.89830508 0.70833333]\n",
            "  [0.16666667 0.45833333 0.08474576 0.04166667]\n",
            "  [0.58333333 0.33333333 0.77966102 0.875     ]\n",
            "  [0.38888889 0.75       0.11864407 0.08333333]\n",
            "  [0.61111111 0.41666667 0.81355932 0.875     ]\n",
            "  [0.38888889 0.25       0.42372881 0.375     ]\n",
            "  [0.38888889 0.33333333 0.52542373 0.5       ]\n",
            "  [0.58333333 0.33333333 0.77966102 0.83333333]\n",
            "  [0.33333333 0.25       0.57627119 0.45833333]\n",
            "  [0.61111111 0.41666667 0.71186441 0.79166667]\n",
            "  [0.47222222 0.58333333 0.59322034 0.625     ]\n",
            "  [0.52777778 0.58333333 0.74576271 0.91666667]\n",
            "  [0.66666667 0.54166667 0.79661017 0.83333333]\n",
            "  [0.58333333 0.45833333 0.76271186 0.70833333]\n",
            "  [0.66666667 0.54166667 0.79661017 1.        ]\n",
            "  [0.58333333 0.5        0.72881356 0.91666667]\n",
            "  [0.47222222 0.41666667 0.6440678  0.70833333]\n",
            "  [0.08333333 0.66666667 0.         0.04166667]\n",
            "  [0.91666667 0.41666667 0.94915254 0.83333333]\n",
            "  [0.11111111 0.5        0.05084746 0.04166667]\n",
            "  [0.27777778 0.70833333 0.08474576 0.04166667]\n",
            "  [0.16666667 0.16666667 0.38983051 0.375     ]]\n",
            "\n",
            " [[0.25       0.29166667 0.49152542 0.54166667]\n",
            "  [0.30555556 0.58333333 0.11864407 0.04166667]\n",
            "  [0.61111111 0.33333333 0.61016949 0.58333333]\n",
            "  [0.19444444 0.41666667 0.10169492 0.04166667]\n",
            "  [0.41666667 0.25       0.50847458 0.45833333]\n",
            "  [0.72222222 0.45833333 0.74576271 0.83333333]\n",
            "  [0.47222222 0.29166667 0.69491525 0.625     ]\n",
            "  [0.5        0.33333333 0.50847458 0.5       ]\n",
            "  [0.11111111 0.5        0.10169492 0.04166667]\n",
            "  [0.72222222 0.45833333 0.66101695 0.58333333]\n",
            "  [0.77777778 0.41666667 0.83050847 0.83333333]\n",
            "  [0.69444444 0.33333333 0.6440678  0.54166667]\n",
            "  [0.66666667 0.45833333 0.77966102 0.95833333]\n",
            "  [0.5        0.41666667 0.66101695 0.70833333]\n",
            "  [0.19444444 0.58333333 0.08474576 0.04166667]\n",
            "  [0.55555556 0.375      0.77966102 0.70833333]\n",
            "  [0.30555556 0.79166667 0.11864407 0.125     ]\n",
            "  [0.38888889 0.41666667 0.54237288 0.45833333]\n",
            "  [0.19444444 0.66666667 0.06779661 0.04166667]\n",
            "  [0.55555556 0.54166667 0.84745763 1.        ]\n",
            "  [0.19444444 0.125      0.38983051 0.375     ]\n",
            "  [0.80555556 0.5        0.84745763 0.70833333]\n",
            "  [0.13888889 0.41666667 0.06779661 0.08333333]\n",
            "  [0.02777778 0.375      0.06779661 0.04166667]\n",
            "  [0.22222222 0.70833333 0.08474576 0.125     ]\n",
            "  [0.38888889 0.375      0.54237288 0.5       ]\n",
            "  [0.36111111 0.41666667 0.59322034 0.58333333]\n",
            "  [0.61111111 0.41666667 0.76271186 0.70833333]\n",
            "  [0.19444444 0.625      0.10169492 0.20833333]\n",
            "  [0.94444444 0.25       1.         0.91666667]]\n",
            "\n",
            " [[0.72222222 0.45833333 0.69491525 0.91666667]\n",
            "  [0.33333333 0.20833333 0.50847458 0.5       ]\n",
            "  [0.38888889 0.20833333 0.6779661  0.79166667]\n",
            "  [0.44444444 0.41666667 0.54237288 0.58333333]\n",
            "  [0.66666667 0.41666667 0.6779661  0.66666667]\n",
            "  [0.69444444 0.41666667 0.76271186 0.83333333]\n",
            "  [0.5        0.25       0.77966102 0.54166667]\n",
            "  [0.33333333 0.16666667 0.47457627 0.41666667]\n",
            "  [0.08333333 0.5        0.06779661 0.04166667]\n",
            "  [0.22222222 0.58333333 0.08474576 0.04166667]\n",
            "  [0.69444444 0.5        0.83050847 0.91666667]\n",
            "  [0.47222222 0.08333333 0.6779661  0.58333333]\n",
            "  [0.02777778 0.41666667 0.05084746 0.04166667]\n",
            "  [0.66666667 0.20833333 0.81355932 0.70833333]\n",
            "  [0.25       0.58333333 0.06779661 0.04166667]\n",
            "  [0.22222222 0.20833333 0.33898305 0.41666667]\n",
            "  [0.36111111 0.41666667 0.52542373 0.5       ]\n",
            "  [0.33333333 0.16666667 0.45762712 0.375     ]\n",
            "  [0.66666667 0.45833333 0.62711864 0.58333333]\n",
            "  [0.25       0.875      0.08474576 0.        ]\n",
            "  [0.16666667 0.41666667 0.06779661 0.04166667]\n",
            "  [0.19444444 0.54166667 0.06779661 0.04166667]\n",
            "  [0.36111111 0.33333333 0.66101695 0.79166667]\n",
            "  [0.30555556 0.79166667 0.05084746 0.125     ]\n",
            "  [0.44444444 0.5        0.6440678  0.70833333]\n",
            "  [0.22222222 0.625      0.06779661 0.08333333]\n",
            "  [0.52777778 0.33333333 0.6440678  0.70833333]\n",
            "  [0.22222222 0.625      0.06779661 0.04166667]\n",
            "  [0.80555556 0.41666667 0.81355932 0.625     ]\n",
            "  [0.52777778 0.375      0.55932203 0.5       ]]\n",
            "\n",
            " [[0.19444444 0.625      0.05084746 0.08333333]\n",
            "  [0.02777778 0.5        0.05084746 0.04166667]\n",
            "  [0.63888889 0.41666667 0.57627119 0.54166667]\n",
            "  [0.16666667 0.66666667 0.06779661 0.        ]\n",
            "  [0.55555556 0.54166667 0.62711864 0.625     ]\n",
            "  [0.5        0.33333333 0.62711864 0.45833333]\n",
            "  [0.41666667 0.29166667 0.69491525 0.75      ]\n",
            "  [0.33333333 0.125      0.50847458 0.5       ]\n",
            "  [0.38888889 0.33333333 0.59322034 0.5       ]\n",
            "  [0.55555556 0.20833333 0.66101695 0.58333333]\n",
            "  [0.55555556 0.20833333 0.6779661  0.75      ]\n",
            "  [0.94444444 0.33333333 0.96610169 0.79166667]\n",
            "  [0.33333333 0.91666667 0.06779661 0.04166667]\n",
            "  [0.55555556 0.33333333 0.69491525 0.58333333]\n",
            "  [0.08333333 0.58333333 0.06779661 0.08333333]\n",
            "  [0.41666667 0.83333333 0.03389831 0.04166667]\n",
            "  [0.22222222 0.75       0.15254237 0.125     ]\n",
            "  [0.19444444 0.5        0.03389831 0.04166667]\n",
            "  [0.41666667 0.33333333 0.69491525 0.95833333]\n",
            "  [0.30555556 0.41666667 0.59322034 0.58333333]\n",
            "  [0.55555556 0.125      0.57627119 0.5       ]\n",
            "  [0.19444444 0.58333333 0.10169492 0.125     ]\n",
            "  [0.22222222 0.75       0.08474576 0.08333333]\n",
            "  [0.75       0.5        0.62711864 0.54166667]\n",
            "  [0.63888889 0.375      0.61016949 0.5       ]\n",
            "  [0.41666667 0.29166667 0.49152542 0.45833333]\n",
            "  [0.47222222 0.375      0.59322034 0.58333333]\n",
            "  [0.41666667 0.29166667 0.52542373 0.375     ]\n",
            "  [0.19444444 0.         0.42372881 0.375     ]\n",
            "  [0.33333333 0.625      0.05084746 0.04166667]]\n",
            "\n",
            " [[0.80555556 0.66666667 0.86440678 1.        ]\n",
            "  [0.16666667 0.20833333 0.59322034 0.66666667]\n",
            "  [0.94444444 0.41666667 0.86440678 0.91666667]\n",
            "  [0.41666667 0.29166667 0.69491525 0.75      ]\n",
            "  [0.22222222 0.54166667 0.11864407 0.16666667]\n",
            "  [0.72222222 0.5        0.79661017 0.91666667]\n",
            "  [0.25       0.625      0.08474576 0.04166667]\n",
            "  [0.86111111 0.33333333 0.86440678 0.75      ]\n",
            "  [0.58333333 0.5        0.59322034 0.58333333]\n",
            "  [0.58333333 0.375      0.55932203 0.5       ]\n",
            "  [0.         0.41666667 0.01694915 0.        ]\n",
            "  [0.36111111 0.375      0.44067797 0.5       ]\n",
            "  [0.22222222 0.75       0.10169492 0.04166667]\n",
            "  [0.5        0.375      0.62711864 0.54166667]\n",
            "  [1.         0.75       0.91525424 0.79166667]\n",
            "  [0.61111111 0.5        0.69491525 0.79166667]\n",
            "  [0.08333333 0.45833333 0.08474576 0.04166667]\n",
            "  [0.05555556 0.125      0.05084746 0.08333333]\n",
            "  [0.94444444 0.75       0.96610169 0.875     ]\n",
            "  [0.36111111 0.29166667 0.54237288 0.5       ]\n",
            "  [0.36111111 0.20833333 0.49152542 0.41666667]\n",
            "  [0.30555556 0.70833333 0.08474576 0.04166667]\n",
            "  [0.13888889 0.58333333 0.10169492 0.04166667]\n",
            "  [0.38888889 1.         0.08474576 0.125     ]\n",
            "  [0.66666667 0.45833333 0.57627119 0.54166667]\n",
            "  [0.66666667 0.41666667 0.71186441 0.91666667]\n",
            "  [0.16666667 0.45833333 0.08474576 0.        ]\n",
            "  [0.5        0.41666667 0.61016949 0.54166667]\n",
            "  [0.58333333 0.29166667 0.72881356 0.75      ]\n",
            "  [0.55555556 0.29166667 0.66101695 0.70833333]]] [[0 2 0 1 1 2 2 0 1 2 2 0 1 2 0 1 1 1 2 2 2 1 1 0 2 1 2 1 1 0 0 1 1 0 0 1\n",
            "  1 0 2 2 2 1 2 2 0 0 2 2 2 0 0 2 0 1 1 1 0 2 0 1 1 0 1 1 0 1 2 0 1 0 0 0\n",
            "  1 0 2 1 0 2 2 2 0 2 0 1 0 0 0 1 2 1 0 2 1 1 1 0 0 0 2 0 2 0 2 1 1 0 0 1\n",
            "  1 2 1 1 1 1 2 1 2 0 2 0]\n",
            " [0 2 0 2 1 2 2 1 2 2 0 1 2 0 0 1 1 1 2 2 2 2 1 0 2 0 1 2 1 1 0 0 1 1 0 0\n",
            "  0 1 1 1 0 2 2 2 2 1 2 2 0 0 2 2 0 2 0 2 0 0 1 0 2 0 1 2 0 1 1 1 1 0 1 2\n",
            "  1 2 1 0 1 0 0 0 0 1 2 0 2 2 2 0 1 0 0 2 1 1 1 0 0 0 2 2 2 2 2 0 2 1 1 2\n",
            "  0 1 1 2 0 1 1 0 1 1 2 0]\n",
            " [0 2 0 1 2 1 2 0 2 0 2 0 0 1 1 2 1 2 0 2 0 1 2 1 1 0 0 1 1 0 1 0 1 1 1 0\n",
            "  2 2 2 1 2 0 2 0 2 0 2 0 2 1 1 0 2 0 1 2 0 1 1 0 1 0 2 1 2 2 1 1 0 0 1 0\n",
            "  2 1 2 2 2 2 0 2 0 0 0 1 2 1 0 2 1 1 1 0 0 2 2 2 0 2 2 0 0 2 1 1 0 2 1 1\n",
            "  0 1 1 0 1 2 1 1 2 0 2 0]\n",
            " [2 1 2 2 2 0 1 2 2 1 2 0 0 1 2 2 2 1 2 1 0 0 2 1 0 0 0 1 1 0 1 0 0 1 1 0\n",
            "  2 2 1 2 2 0 2 0 2 2 0 2 0 1 1 1 0 2 0 1 2 1 1 1 0 1 1 1 2 1 2 2 1 0 1 0\n",
            "  0 0 1 0 2 1 2 0 2 2 2 2 0 2 0 1 0 0 1 0 2 1 1 0 2 2 2 0 2 2 2 0 0 2 0 2\n",
            "  0 2 0 1 1 0 1 2 1 2 0 2]\n",
            " [0 0 1 2 1 2 0 1 2 0 1 0 1 1 1 2 2 1 2 1 2 0 1 1 0 0 0 1 0 1 0 1 1 2 2 2\n",
            "  2 2 0 0 2 2 0 0 2 2 0 1 1 1 0 2 1 0 1 1 0 1 1 0 1 2 1 2 2 1 0 0 1 2 2 0\n",
            "  2 2 2 0 2 0 1 0 0 1 2 1 0 2 1 1 0 0 0 2 2 2 0 2 2 2 0 0 1 1 0 2 0 1 1 2\n",
            "  0 1 1 1 0 1 2 1 1 0 2 0]] [[2 0 2 0 0 1 0 1 2 0 2 0 2 1 1 2 1 2 1 2 2 2 2 2 2 0 2 0 0 1]\n",
            " [1 0 1 0 1 2 1 1 0 1 2 1 2 2 0 2 0 1 0 2 1 2 0 0 0 1 1 2 0 2]\n",
            " [2 1 2 1 1 2 2 1 0 0 2 2 0 2 0 1 1 1 1 0 0 0 2 0 1 0 2 0 2 1]\n",
            " [0 0 1 0 1 1 2 1 1 1 2 2 0 2 0 0 0 0 2 1 1 0 0 1 1 1 1 1 1 0]\n",
            " [2 2 2 2 0 2 0 2 1 1 0 1 0 1 2 2 0 0 2 1 1 0 0 0 1 2 0 1 2 2]]\n"
          ]
        }
      ]
    },
    {
      "cell_type": "markdown",
      "metadata": {
        "id": "fmTjzU336ijc"
      },
      "source": [
        "# One Hot Encoding"
      ]
    },
    {
      "cell_type": "code",
      "metadata": {
        "id": "Epwpp2SQ3bcJ"
      },
      "source": [
        "from numpy import array\n",
        "from numpy import argmax\n",
        "from sklearn.preprocessing import LabelEncoder\n",
        "from sklearn.preprocessing import OneHotEncoder\n",
        "def one_hot_encoding(y):\n",
        "  label_encoder = LabelEncoder()\n",
        "  integer_encoded = label_encoder.fit_transform(y)\n",
        "  onehot_encoder = OneHotEncoder(sparse=False)\n",
        "  integer_encoded = integer_encoded.reshape(len(integer_encoded), 1)\n",
        "  onehot_encoded = onehot_encoder.fit_transform(integer_encoded)\n",
        "  return onehot_encoded"
      ],
      "execution_count": null,
      "outputs": []
    },
    {
      "cell_type": "code",
      "metadata": {
        "id": "bDhKHXT9oX-q"
      },
      "source": [
        "# adding one column with all once\n",
        "def add_intercept(x):\n",
        "  intercept = np.ones((x.shape[0], 1))\n",
        "  return np.concatenate((intercept, x), axis=1)"
      ],
      "execution_count": null,
      "outputs": []
    },
    {
      "cell_type": "code",
      "metadata": {
        "id": "XUME8sA95RXl",
        "colab": {
          "base_uri": "https://localhost:8080/"
        },
        "outputId": "6b239bc9-e9c6-41c7-b406-b27117b1edc1"
      },
      "source": [
        "onehot = one_hot_encoding(y_actual)\n",
        "print(onehot)"
      ],
      "execution_count": null,
      "outputs": [
        {
          "output_type": "stream",
          "name": "stdout",
          "text": [
            "[[1. 0. 0.]\n",
            " [0. 0. 1.]\n",
            " [1. 0. 0.]\n",
            " [0. 1. 0.]\n",
            " [0. 0. 1.]\n",
            " [0. 1. 0.]\n",
            " [0. 0. 1.]\n",
            " [0. 0. 1.]\n",
            " [1. 0. 0.]\n",
            " [0. 1. 0.]\n",
            " [0. 0. 1.]\n",
            " [0. 0. 1.]\n",
            " [1. 0. 0.]\n",
            " [0. 1. 0.]\n",
            " [0. 0. 1.]\n",
            " [1. 0. 0.]\n",
            " [1. 0. 0.]\n",
            " [0. 1. 0.]\n",
            " [0. 1. 0.]\n",
            " [0. 1. 0.]\n",
            " [0. 0. 1.]\n",
            " [0. 0. 1.]\n",
            " [0. 0. 1.]\n",
            " [0. 1. 0.]\n",
            " [0. 0. 1.]\n",
            " [0. 1. 0.]\n",
            " [1. 0. 0.]\n",
            " [0. 0. 1.]\n",
            " [1. 0. 0.]\n",
            " [0. 1. 0.]\n",
            " [0. 0. 1.]\n",
            " [0. 1. 0.]\n",
            " [0. 1. 0.]\n",
            " [1. 0. 0.]\n",
            " [1. 0. 0.]\n",
            " [1. 0. 0.]\n",
            " [0. 1. 0.]\n",
            " [0. 1. 0.]\n",
            " [1. 0. 0.]\n",
            " [0. 1. 0.]\n",
            " [1. 0. 0.]\n",
            " [1. 0. 0.]\n",
            " [0. 1. 0.]\n",
            " [0. 1. 0.]\n",
            " [0. 1. 0.]\n",
            " [1. 0. 0.]\n",
            " [0. 0. 1.]\n",
            " [0. 0. 1.]\n",
            " [0. 0. 1.]\n",
            " [0. 0. 1.]\n",
            " [0. 1. 0.]\n",
            " [0. 0. 1.]\n",
            " [0. 0. 1.]\n",
            " [1. 0. 0.]\n",
            " [1. 0. 0.]\n",
            " [0. 0. 1.]\n",
            " [0. 0. 1.]\n",
            " [1. 0. 0.]\n",
            " [0. 0. 1.]\n",
            " [1. 0. 0.]\n",
            " [0. 0. 1.]\n",
            " [1. 0. 0.]\n",
            " [0. 0. 1.]\n",
            " [1. 0. 0.]\n",
            " [0. 1. 0.]\n",
            " [0. 1. 0.]\n",
            " [0. 1. 0.]\n",
            " [1. 0. 0.]\n",
            " [0. 0. 1.]\n",
            " [1. 0. 0.]\n",
            " [0. 1. 0.]\n",
            " [0. 0. 1.]\n",
            " [1. 0. 0.]\n",
            " [0. 1. 0.]\n",
            " [0. 1. 0.]\n",
            " [0. 1. 0.]\n",
            " [1. 0. 0.]\n",
            " [0. 1. 0.]\n",
            " [0. 1. 0.]\n",
            " [1. 0. 0.]\n",
            " [0. 1. 0.]\n",
            " [0. 0. 1.]\n",
            " [0. 1. 0.]\n",
            " [0. 0. 1.]\n",
            " [0. 0. 1.]\n",
            " [0. 1. 0.]\n",
            " [1. 0. 0.]\n",
            " [0. 1. 0.]\n",
            " [1. 0. 0.]\n",
            " [1. 0. 0.]\n",
            " [1. 0. 0.]\n",
            " [0. 1. 0.]\n",
            " [1. 0. 0.]\n",
            " [0. 0. 1.]\n",
            " [0. 1. 0.]\n",
            " [0. 0. 1.]\n",
            " [1. 0. 0.]\n",
            " [0. 0. 1.]\n",
            " [0. 0. 1.]\n",
            " [0. 0. 1.]\n",
            " [0. 0. 1.]\n",
            " [1. 0. 0.]\n",
            " [0. 0. 1.]\n",
            " [1. 0. 0.]\n",
            " [0. 1. 0.]\n",
            " [1. 0. 0.]\n",
            " [1. 0. 0.]\n",
            " [1. 0. 0.]\n",
            " [0. 1. 0.]\n",
            " [0. 0. 1.]\n",
            " [0. 1. 0.]\n",
            " [1. 0. 0.]\n",
            " [0. 0. 1.]\n",
            " [0. 1. 0.]\n",
            " [0. 1. 0.]\n",
            " [0. 1. 0.]\n",
            " [1. 0. 0.]\n",
            " [1. 0. 0.]\n",
            " [1. 0. 0.]\n",
            " [0. 0. 1.]\n",
            " [0. 0. 1.]\n",
            " [0. 0. 1.]\n",
            " [1. 0. 0.]\n",
            " [0. 0. 1.]\n",
            " [0. 0. 1.]\n",
            " [0. 0. 1.]\n",
            " [1. 0. 0.]\n",
            " [1. 0. 0.]\n",
            " [0. 0. 1.]\n",
            " [0. 1. 0.]\n",
            " [0. 1. 0.]\n",
            " [1. 0. 0.]\n",
            " [0. 0. 1.]\n",
            " [1. 0. 0.]\n",
            " [0. 1. 0.]\n",
            " [0. 1. 0.]\n",
            " [0. 0. 1.]\n",
            " [1. 0. 0.]\n",
            " [0. 1. 0.]\n",
            " [0. 1. 0.]\n",
            " [0. 1. 0.]\n",
            " [1. 0. 0.]\n",
            " [0. 1. 0.]\n",
            " [0. 0. 1.]\n",
            " [0. 1. 0.]\n",
            " [0. 1. 0.]\n",
            " [0. 0. 1.]\n",
            " [1. 0. 0.]\n",
            " [0. 0. 1.]\n",
            " [1. 0. 0.]]\n"
          ]
        }
      ]
    },
    {
      "cell_type": "code",
      "metadata": {
        "id": "CewazDMB6q8M"
      },
      "source": [
        "def loss(h, y):\n",
        "  return sum(-y*np.log(h) - (1-y)*np.log(1-h))"
      ],
      "execution_count": null,
      "outputs": []
    },
    {
      "cell_type": "code",
      "metadata": {
        "id": "oqUcyfAE6_BS"
      },
      "source": [
        "def mse(h, y):\n",
        "  return (((h-y)**2).mean())/2\n",
        "def mse_in_iter(h, y):\n",
        "  return (sum((h-y)**2))/2"
      ],
      "execution_count": null,
      "outputs": []
    },
    {
      "cell_type": "code",
      "metadata": {
        "id": "9n7atNv77RNW"
      },
      "source": [
        "def predict(x, y, all_weights):\n",
        "  # add intercept into x values\n",
        "  X = add_intercept(x)\n",
        "  y = []\n",
        "  for i in range(len(X)):\n",
        "    d1 = np.dot(all_weights[0], X[i].T)\n",
        "    d2 = np.dot(all_weights[1], X[i].T)\n",
        "    d3 = np.dot(all_weights[2], X[i].T)\n",
        "    if (d1 > d2 and d1 > d3):\n",
        "      y.append(0)\n",
        "    elif (d2 > d1 and d2 > d3):\n",
        "      y.append(1)\n",
        "    else :\n",
        "      y.append(2)\n",
        "  return y"
      ],
      "execution_count": null,
      "outputs": []
    },
    {
      "cell_type": "code",
      "metadata": {
        "id": "qsOM0-A8pGmX"
      },
      "source": [
        "def slp(x, y, lr=0.01, roh = 0.000001, num_iter=100):\n",
        "  x = add_intercept(x) # add intercept in the feature vectors (in independent varibales)\n",
        "  all_hypothesis = []\n",
        "  all_weights = []\n",
        "  final_hypothesis = []\n",
        "  classes = list(set(y)) # find how many classes are there...\n",
        "  d = np.ones(len(classes))\n",
        "  # calculate the weight vector (2D array, shape will be (no_of_classes*no_of_feature_vector))\n",
        "  for i in range(0, len(classes)):\n",
        "    weight = np.ones(x.shape[1])*0.1\n",
        "    all_weights.append(weight)\n",
        "  all_weights = np.array(all_weights)\n",
        "  converged = True\n",
        "  epoch = 0\n",
        "  # make one hot encoding\n",
        "  y_onehot = one_hot_encoding(y)\n",
        "  current_loss = 0\n",
        "  while converged:\n",
        "    #logloss_error = 0\n",
        "    mse_error = 0   # at the starting of each epoch mse will be 0\n",
        "    for i in range(0, x.shape[0]): # for each training sample one by one\n",
        "      hypo = np.ones(len(classes))\n",
        "      for k in range(0, len(classes)): # for calculating d values\n",
        "        z = np.dot(x[i], all_weights[k].T)\n",
        "        #h = sigmoid(z)  # hypothesis\n",
        "        h = z\n",
        "        hypo[k] = h\n",
        "        if (h>=0):\n",
        "          d[k] = 1 # predicted one\n",
        "        if (h<0):\n",
        "          d[k] = 0 # predicted one\n",
        "      # calculate the errror (mse and logloss)\n",
        "      # but we are converging through the logloss only\n",
        "      mse_error = mse_error + mse_in_iter(d, y_onehot[i])\n",
        "      #logloss_error = logloss_error + loss(hypo, y_onehot[i])\n",
        "      # Weight updation using the current training sample\n",
        "      update_weights = []\n",
        "      for j in range(0, len(classes)):\n",
        "        all_weights[j] = all_weights[j] + x[i]*(y_onehot[i][j]-d[j])*lr\n",
        "    print(f'Epoch: {epoch} ------>' + f' ------> Mse: {mse_error/x.shape[0]} \\t ')\n",
        "    if(abs(current_loss - (mse_error/x.shape[0])) <= roh):\n",
        "        print(f\"Converged through roh criteria: epoch = {i}\")\n",
        "        break # converged\n",
        "    current_loss = mse_error/x.shape[0] # save the previous error to calculate the diff in current error and previous error\n",
        "    epoch = epoch + 1\n",
        "    if (epoch== num_iter):\n",
        "      print(\"Converged through maximum epoch no criteria...\") # converged\n",
        "      # return the traning accuracy also\n",
        "      return all_weights\n",
        "  # return the accuracy also\n",
        "  y_predicted = predict_inner(x, all_weights)\n",
        "  y_predicted = np.array(y_predicted)\n",
        "  acc = accuracy_score(y, y_predicted)*100\n",
        "  print(\"Train Accuracy: \" + str(acc))\n",
        "  return all_weights"
      ],
      "execution_count": null,
      "outputs": []
    },
    {
      "cell_type": "code",
      "metadata": {
        "colab": {
          "base_uri": "https://localhost:8080/"
        },
        "id": "tGpU555bLp59",
        "outputId": "b59758be-e6ad-4601-db66-91c0002a97df"
      },
      "source": [
        "all_weights = slp(X_train, y_train, lr=0.3, roh = 0.000001, num_iter=1000)"
      ],
      "execution_count": null,
      "outputs": [
        {
          "output_type": "stream",
          "name": "stdout",
          "text": [
            "Epoch: 0 ------> ------> Mse: 0.3952380952380952 \t \n",
            "Epoch: 1 ------> ------> Mse: 0.2714285714285714 \t \n",
            "Epoch: 2 ------> ------> Mse: 0.2904761904761905 \t \n",
            "Epoch: 3 ------> ------> Mse: 0.26666666666666666 \t \n",
            "Epoch: 4 ------> ------> Mse: 0.23333333333333334 \t \n",
            "Epoch: 5 ------> ------> Mse: 0.2571428571428571 \t \n",
            "Epoch: 6 ------> ------> Mse: 0.21904761904761905 \t \n",
            "Epoch: 7 ------> ------> Mse: 0.20952380952380953 \t \n",
            "Epoch: 8 ------> ------> Mse: 0.2523809523809524 \t \n",
            "Epoch: 9 ------> ------> Mse: 0.21904761904761905 \t \n",
            "Epoch: 10 ------> ------> Mse: 0.2523809523809524 \t \n",
            "Epoch: 11 ------> ------> Mse: 0.21904761904761905 \t \n",
            "Epoch: 12 ------> ------> Mse: 0.23809523809523808 \t \n",
            "Epoch: 13 ------> ------> Mse: 0.20952380952380953 \t \n",
            "Epoch: 14 ------> ------> Mse: 0.18095238095238095 \t \n",
            "Epoch: 15 ------> ------> Mse: 0.20952380952380953 \t \n",
            "Epoch: 16 ------> ------> Mse: 0.19047619047619047 \t \n",
            "Epoch: 17 ------> ------> Mse: 0.20952380952380953 \t \n",
            "Epoch: 18 ------> ------> Mse: 0.18571428571428572 \t \n",
            "Epoch: 19 ------> ------> Mse: 0.20952380952380953 \t \n",
            "Epoch: 20 ------> ------> Mse: 0.19047619047619047 \t \n",
            "Epoch: 21 ------> ------> Mse: 0.20952380952380953 \t \n",
            "Epoch: 22 ------> ------> Mse: 0.20952380952380953 \t \n",
            "Converged through roh criteria: epoch = 104\n",
            "Train Accuracy: 74.28571428571429\n"
          ]
        }
      ]
    },
    {
      "cell_type": "code",
      "metadata": {
        "colab": {
          "base_uri": "https://localhost:8080/"
        },
        "id": "bZPRXL1fbj7t",
        "outputId": "a7028bcc-93ad-4134-ba15-a3e589a20e84"
      },
      "source": [
        "y_predicted = predict(X_train, y_train, all_weights)\n",
        "y_predicted = np.array(y_predicted)\n",
        "print(accuracy_score(y_train , y_predicted))"
      ],
      "execution_count": null,
      "outputs": [
        {
          "output_type": "stream",
          "name": "stdout",
          "text": [
            "0.7428571428571429\n"
          ]
        }
      ]
    },
    {
      "cell_type": "code",
      "metadata": {
        "colab": {
          "base_uri": "https://localhost:8080/"
        },
        "id": "BtR4w-7TNK-2",
        "outputId": "32808867-baec-469d-876d-c7c4f4702c1d"
      },
      "source": [
        "y_predicted = predict(X_test, y_test, all_weights)\n",
        "y_predicted = np.array(y_predicted)\n",
        "print(accuracy_score(y_test , y_predicted ))"
      ],
      "execution_count": null,
      "outputs": [
        {
          "output_type": "stream",
          "name": "stdout",
          "text": [
            "0.8421052631578947\n"
          ]
        }
      ]
    },
    {
      "cell_type": "code",
      "metadata": {
        "id": "FyBehvAWNLBw",
        "colab": {
          "base_uri": "https://localhost:8080/"
        },
        "outputId": "3ab7ac93-98ea-4ffe-cdf6-94cb960a1532"
      },
      "source": [
        "y_predicted = predict(X_validation, y_validation, all_weights)\n",
        "y_predicted = np.array(y_predicted)\n",
        "print(accuracy_score(y_validation, y_predicted ))"
      ],
      "execution_count": null,
      "outputs": [
        {
          "output_type": "stream",
          "name": "stdout",
          "text": [
            "1.0\n"
          ]
        }
      ]
    },
    {
      "cell_type": "code",
      "metadata": {
        "colab": {
          "base_uri": "https://localhost:8080/"
        },
        "id": "SGU1JgP4urNM",
        "outputId": "47a06eea-9c88-429c-cdf2-983294e4556a"
      },
      "source": [
        "# Take average of all folds\n",
        "from sklearn.metrics import confusion_matrix, precision_score, recall_score, f1_score, accuracy_score\n",
        "from sklearn import metrics\n",
        "accuracy = np.ones(5)\n",
        "precision = np.ones(5)\n",
        "recall = np.ones(5)\n",
        "f1 = np.ones(5)\n",
        "for i in range(0,5):\n",
        "  all_weights = slp(all_x_train[i], all_y_train[i], lr=0.3, roh = 0.000001, num_iter=100)\n",
        "  y_predicted = predict(all_x_test[i], all_y_test[i], all_weights)\n",
        "  y_predicted = np.array(y_predicted)\n",
        "  accuracy[i] = accuracy_score(all_y_test[i] , y_predicted)*100\n",
        "  print(\"Accuracy Score:\", accuracy[i])\n",
        "  precision[i] = precision_score(all_y_test[i], y_predicted, labels=[0,1,2], average='micro')*100\n",
        "  recall[i] = recall_score(all_y_test[i], y_predicted, labels=[0,1,2], average='micro')*100\n",
        "  f1[i] = f1_score(all_y_test[i], y_predicted, labels=[0,1,2], average='micro')*100\n",
        "  print(\"Training Accuracy: \", accuracy[i])\n",
        "  print(\"Prescission Score:\", precision[i])\n",
        "  print(\"Recall Score : \", recall_score(all_y_test[i], y_predicted, labels=[0,1,2], average='micro')*100) \n",
        "  print('F1 Score : ', f1_score(all_y_test[i], y_predicted, labels=[0,1,2], average='micro')*100)\n",
        "  print('Confusion Matrix : \\n' + str(confusion_matrix(all_y_test[i], y_predicted)))\n",
        "  print(\"Classification Report for 3-classes: \")\n",
        "  out_labels = [0,1,2]\n",
        "  print(metrics.classification_report(all_y_test[i], y_predicted, out_labels, digits=3))"
      ],
      "execution_count": null,
      "outputs": [
        {
          "output_type": "stream",
          "name": "stdout",
          "text": [
            "Epoch: 0 ------> ------> Mse: 0.30416666666666664 \t \n",
            "Epoch: 1 ------> ------> Mse: 0.2625 \t \n",
            "Epoch: 2 ------> ------> Mse: 0.22916666666666666 \t \n",
            "Epoch: 3 ------> ------> Mse: 0.24166666666666667 \t \n",
            "Epoch: 4 ------> ------> Mse: 0.2708333333333333 \t \n",
            "Epoch: 5 ------> ------> Mse: 0.22916666666666666 \t \n",
            "Epoch: 6 ------> ------> Mse: 0.2 \t \n",
            "Epoch: 7 ------> ------> Mse: 0.19166666666666668 \t \n",
            "Epoch: 8 ------> ------> Mse: 0.17916666666666667 \t \n",
            "Epoch: 9 ------> ------> Mse: 0.21666666666666667 \t \n",
            "Epoch: 10 ------> ------> Mse: 0.21666666666666667 \t \n",
            "Converged through roh criteria: epoch = 119\n",
            "Train Accuracy: 75.83333333333333\n",
            "Accuracy Score: 93.33333333333333\n",
            "Training Accuracy:  93.33333333333333\n",
            "Prescission Score: 93.33333333333333\n",
            "Recall Score :  93.33333333333333\n",
            "F1 Score :  93.33333333333333\n",
            "Confusion Matrix : \n",
            "[[ 9  0  0]\n",
            " [ 2  5  0]\n",
            " [ 0  0 14]]\n",
            "Classification Report for 3-classes: \n",
            "              precision    recall  f1-score   support\n",
            "\n",
            "           0      0.818     1.000     0.900         9\n",
            "           1      1.000     0.714     0.833         7\n",
            "           2      1.000     1.000     1.000        14\n",
            "\n",
            "    accuracy                          0.933        30\n",
            "   macro avg      0.939     0.905     0.911        30\n",
            "weighted avg      0.945     0.933     0.931        30\n",
            "\n",
            "Epoch: 0 ------> ------> Mse: 0.30416666666666664 \t \n",
            "Epoch: 1 ------> ------> Mse: 0.25416666666666665 \t \n",
            "Epoch: 2 ------> ------> Mse: 0.2375 \t \n",
            "Epoch: 3 ------> ------> Mse: 0.2125 \t \n",
            "Epoch: 4 ------> ------> Mse: 0.20833333333333334 \t \n",
            "Epoch: 5 ------> ------> Mse: 0.23333333333333334 \t \n",
            "Epoch: 6 ------> ------> Mse: 0.2125 \t \n",
            "Epoch: 7 ------> ------> Mse: 0.20833333333333334 \t \n",
            "Epoch: 8 ------> ------> Mse: 0.225 \t \n",
            "Epoch: 9 ------> ------> Mse: 0.22916666666666666 \t \n",
            "Epoch: 10 ------> ------> Mse: 0.20833333333333334 \t \n",
            "Epoch: 11 ------> ------> Mse: 0.19166666666666668 \t \n",
            "Epoch: 12 ------> ------> Mse: 0.20833333333333334 \t \n",
            "Epoch: 13 ------> ------> Mse: 0.2 \t \n",
            "Epoch: 14 ------> ------> Mse: 0.20833333333333334 \t \n",
            "Epoch: 15 ------> ------> Mse: 0.2 \t \n",
            "Epoch: 16 ------> ------> Mse: 0.19166666666666668 \t \n",
            "Epoch: 17 ------> ------> Mse: 0.20416666666666666 \t \n",
            "Epoch: 18 ------> ------> Mse: 0.19166666666666668 \t \n",
            "Epoch: 19 ------> ------> Mse: 0.20833333333333334 \t \n",
            "Epoch: 20 ------> ------> Mse: 0.20833333333333334 \t \n",
            "Converged through roh criteria: epoch = 119\n",
            "Train Accuracy: 80.83333333333333\n",
            "Accuracy Score: 70.0\n",
            "Training Accuracy:  70.0\n",
            "Prescission Score: 70.0\n",
            "Recall Score :  70.0\n",
            "F1 Score :  70.0\n",
            "Confusion Matrix : \n",
            "[[10  0  0]\n",
            " [ 5  2  4]\n",
            " [ 0  0  9]]\n",
            "Classification Report for 3-classes: \n",
            "              precision    recall  f1-score   support\n",
            "\n",
            "           0      0.667     1.000     0.800        10\n",
            "           1      1.000     0.182     0.308        11\n",
            "           2      0.692     1.000     0.818         9\n",
            "\n",
            "    accuracy                          0.700        30\n",
            "   macro avg      0.786     0.727     0.642        30\n",
            "weighted avg      0.797     0.700     0.625        30\n",
            "\n",
            "Epoch: 0 ------> ------> Mse: 0.30833333333333335 \t \n",
            "Epoch: 1 ------> ------> Mse: 0.25 \t \n",
            "Epoch: 2 ------> ------> Mse: 0.24166666666666667 \t \n",
            "Epoch: 3 ------> ------> Mse: 0.18333333333333332 \t \n",
            "Epoch: 4 ------> ------> Mse: 0.19166666666666668 \t \n",
            "Epoch: 5 ------> ------> Mse: 0.2 \t \n",
            "Epoch: 6 ------> ------> Mse: 0.17916666666666667 \t \n",
            "Epoch: 7 ------> ------> Mse: 0.1625 \t \n",
            "Epoch: 8 ------> ------> Mse: 0.15833333333333333 \t \n",
            "Epoch: 9 ------> ------> Mse: 0.15416666666666667 \t \n",
            "Epoch: 10 ------> ------> Mse: 0.1625 \t \n",
            "Epoch: 11 ------> ------> Mse: 0.175 \t \n",
            "Epoch: 12 ------> ------> Mse: 0.15 \t \n",
            "Epoch: 13 ------> ------> Mse: 0.1625 \t \n",
            "Epoch: 14 ------> ------> Mse: 0.14166666666666666 \t \n",
            "Epoch: 15 ------> ------> Mse: 0.1625 \t \n",
            "Epoch: 16 ------> ------> Mse: 0.15833333333333333 \t \n",
            "Epoch: 17 ------> ------> Mse: 0.16666666666666666 \t \n",
            "Epoch: 18 ------> ------> Mse: 0.2 \t \n",
            "Epoch: 19 ------> ------> Mse: 0.17916666666666667 \t \n",
            "Epoch: 20 ------> ------> Mse: 0.18333333333333332 \t \n",
            "Epoch: 21 ------> ------> Mse: 0.2 \t \n",
            "Epoch: 22 ------> ------> Mse: 0.15 \t \n",
            "Epoch: 23 ------> ------> Mse: 0.15833333333333333 \t \n",
            "Epoch: 24 ------> ------> Mse: 0.16666666666666666 \t \n",
            "Epoch: 25 ------> ------> Mse: 0.16666666666666666 \t \n",
            "Converged through roh criteria: epoch = 119\n",
            "Train Accuracy: 68.33333333333333\n",
            "Accuracy Score: 66.66666666666666\n",
            "Training Accuracy:  66.66666666666666\n",
            "Prescission Score: 66.66666666666666\n",
            "Recall Score :  66.66666666666666\n",
            "F1 Score :  66.66666666666666\n",
            "Confusion Matrix : \n",
            "[[10  0  0]\n",
            " [ 7  0  3]\n",
            " [ 0  0 10]]\n",
            "Classification Report for 3-classes: \n",
            "              precision    recall  f1-score   support\n",
            "\n",
            "           0      0.588     1.000     0.741        10\n",
            "           1      0.000     0.000     0.000        10\n",
            "           2      0.769     1.000     0.870        10\n",
            "\n",
            "    accuracy                          0.667        30\n",
            "   macro avg      0.452     0.667     0.537        30\n",
            "weighted avg      0.452     0.667     0.537        30\n",
            "\n",
            "Epoch: 0 ------> ------> Mse: 0.29583333333333334 \t \n",
            "Epoch: 1 ------> ------> Mse: 0.2625 \t \n",
            "Epoch: 2 ------> ------> Mse: 0.22916666666666666 \t \n",
            "Epoch: 3 ------> ------> Mse: 0.21666666666666667 \t \n",
            "Epoch: 4 ------> ------> Mse: 0.22916666666666666 \t \n",
            "Epoch: 5 ------> ------> Mse: 0.19166666666666668 \t \n",
            "Epoch: 6 ------> ------> Mse: 0.18333333333333332 \t \n",
            "Epoch: 7 ------> ------> Mse: 0.19583333333333333 \t \n",
            "Epoch: 8 ------> ------> Mse: 0.2 \t \n",
            "Epoch: 9 ------> ------> Mse: 0.19583333333333333 \t \n",
            "Epoch: 10 ------> ------> Mse: 0.20833333333333334 \t \n",
            "Epoch: 11 ------> ------> Mse: 0.2 \t \n",
            "Epoch: 12 ------> ------> Mse: 0.18333333333333332 \t \n",
            "Epoch: 13 ------> ------> Mse: 0.20416666666666666 \t \n",
            "Epoch: 14 ------> ------> Mse: 0.20833333333333334 \t \n",
            "Epoch: 15 ------> ------> Mse: 0.19166666666666668 \t \n",
            "Epoch: 16 ------> ------> Mse: 0.19166666666666668 \t \n",
            "Converged through roh criteria: epoch = 119\n",
            "Train Accuracy: 70.0\n",
            "Accuracy Score: 50.0\n",
            "Training Accuracy:  50.0\n",
            "Prescission Score: 50.0\n",
            "Recall Score :  50.0\n",
            "F1 Score :  50.0\n",
            "Confusion Matrix : \n",
            "[[11  0  0]\n",
            " [13  0  1]\n",
            " [ 1  0  4]]\n",
            "Classification Report for 3-classes: \n",
            "              precision    recall  f1-score   support\n",
            "\n",
            "           0      0.440     1.000     0.611        11\n",
            "           1      0.000     0.000     0.000        14\n",
            "           2      0.800     0.800     0.800         5\n",
            "\n",
            "    accuracy                          0.500        30\n",
            "   macro avg      0.413     0.600     0.470        30\n",
            "weighted avg      0.295     0.500     0.357        30\n",
            "\n",
            "Epoch: 0 ------> ------> Mse: 0.30833333333333335 \t \n",
            "Epoch: 1 ------> ------> Mse: 0.225 \t \n",
            "Epoch: 2 ------> ------> Mse: 0.25 \t \n",
            "Epoch: 3 ------> ------> Mse: 0.225 \t \n",
            "Epoch: 4 ------> ------> Mse: 0.20416666666666666 \t \n",
            "Epoch: 5 ------> ------> Mse: 0.1625 \t \n",
            "Epoch: 6 ------> ------> Mse: 0.15 \t \n",
            "Epoch: 7 ------> ------> Mse: 0.15833333333333333 \t \n",
            "Epoch: 8 ------> ------> Mse: 0.16666666666666666 \t \n",
            "Epoch: 9 ------> ------> Mse: 0.1875 \t \n"
          ]
        },
        {
          "output_type": "stream",
          "name": "stderr",
          "text": [
            "/usr/local/lib/python3.7/dist-packages/sklearn/metrics/_classification.py:1272: UndefinedMetricWarning: Precision and F-score are ill-defined and being set to 0.0 in labels with no predicted samples. Use `zero_division` parameter to control this behavior.\n",
            "  _warn_prf(average, modifier, msg_start, len(result))\n",
            "/usr/local/lib/python3.7/dist-packages/sklearn/metrics/_classification.py:1272: UndefinedMetricWarning: Precision and F-score are ill-defined and being set to 0.0 in labels with no predicted samples. Use `zero_division` parameter to control this behavior.\n",
            "  _warn_prf(average, modifier, msg_start, len(result))\n"
          ]
        },
        {
          "output_type": "stream",
          "name": "stdout",
          "text": [
            "Epoch: 10 ------> ------> Mse: 0.15833333333333333 \t \n",
            "Epoch: 11 ------> ------> Mse: 0.15833333333333333 \t \n",
            "Converged through roh criteria: epoch = 119\n",
            "Train Accuracy: 77.5\n",
            "Accuracy Score: 73.33333333333333\n",
            "Training Accuracy:  73.33333333333333\n",
            "Prescission Score: 73.33333333333333\n",
            "Recall Score :  73.33333333333333\n",
            "F1 Score :  73.33333333333333\n",
            "Confusion Matrix : \n",
            "[[ 9  1  0]\n",
            " [ 6  2  0]\n",
            " [ 0  1 11]]\n",
            "Classification Report for 3-classes: \n",
            "              precision    recall  f1-score   support\n",
            "\n",
            "           0      0.600     0.900     0.720        10\n",
            "           1      0.500     0.250     0.333         8\n",
            "           2      1.000     0.917     0.957        12\n",
            "\n",
            "    accuracy                          0.733        30\n",
            "   macro avg      0.700     0.689     0.670        30\n",
            "weighted avg      0.733     0.733     0.711        30\n",
            "\n"
          ]
        }
      ]
    },
    {
      "cell_type": "code",
      "metadata": {
        "colab": {
          "base_uri": "https://localhost:8080/"
        },
        "id": "UyPJIIkfwmS4",
        "outputId": "e66d19d6-1b2d-4cdc-e428-51c4a39f7304"
      },
      "source": [
        "print(\"Mean Accuracy: \",accuracy.mean())\n",
        "print(\"Mean precission: \", precision.mean())\n",
        "print(\"Mean recall: \",recall.mean())\n",
        "print(\"Mean f1 score: \",f1.mean())"
      ],
      "execution_count": null,
      "outputs": [
        {
          "output_type": "stream",
          "name": "stdout",
          "text": [
            "Mean Accuracy:  70.66666666666666\n",
            "Mean precission:  70.66666666666666\n",
            "Mean recall:  70.66666666666666\n",
            "Mean f1 score:  70.66666666666666\n"
          ]
        }
      ]
    },
    {
      "cell_type": "markdown",
      "metadata": {
        "id": "UPgP1TYQddxZ"
      },
      "source": [
        "# Hyperparameter tuning on the validation set is required to be done."
      ]
    },
    {
      "cell_type": "code",
      "metadata": {
        "colab": {
          "base_uri": "https://localhost:8080/"
        },
        "id": "dQTFoM-WwrfX",
        "outputId": "4fafaf2e-f259-4053-dad2-e47c25433817"
      },
      "source": [
        "# Do the splitting on the first fold\n",
        "# Train test validation\n",
        "from sklearn.model_selection import train_test_split\n",
        "import random\n",
        "# train(70%), validation (10%), and test(20%)\n",
        "X_train, X_validation, y_train, y_validation = train_test_split(all_x_train[0], all_y_train[0] , test_size=0.1, random_state=random.randint(30,100))\n",
        "print(\"Size of the train dataset:\" + str(X_train.shape))\n",
        "print(\"Size of the validation dataset:\" + str(X_validation.shape))"
      ],
      "execution_count": null,
      "outputs": [
        {
          "output_type": "stream",
          "name": "stdout",
          "text": [
            "Size of the train dataset:(108, 4)\n",
            "Size of the validation dataset:(12, 4)\n"
          ]
        }
      ]
    },
    {
      "cell_type": "code",
      "metadata": {
        "id": "GxAcqlRjw6uL"
      },
      "source": [
        "# Hyperparameter tuning on the validation set is required to be done.\n",
        "# here we are choosing the best hyperparameters based on the accuracy value\n",
        "def get_best_hyperparameter(X_train, y_train, X_validation, y_validation, alpha, roh, num_iter):\n",
        "  valid_hypothesis = []\n",
        "  validation_accuracy = []\n",
        "  x = add_intercept(X_validation)\n",
        "  for i in range(0, len(alpha)):\n",
        "    all_hypothesis_valid = []\n",
        "    final_hypothesis = []\n",
        "    all_weights = slp(X_train, y_train, lr=alpha[i], roh = roh[i], num_iter=num_iter[i])\n",
        "    y_predicted = predict(X_validation, y_validation, all_weights)\n",
        "    y_predicted = np.array(y_predicted)\n",
        "    accuracy[i] = accuracy_score(y_validation, y_predicted)*100\n",
        "    print(\"Validation Accuracy: \" + str(accuracy[i]))\n",
        "    # calculate the accuracy in the validation set\n",
        "  max_index = np.argmax(accuracy)\n",
        "  print(\"Best hyperparameter value is alpha = \" + str(alpha[max_index]) + \", roh = \" + str(roh[max_index]) + \" and num_iter = \" + str(num_iter[max_index]))\n",
        "  print(\"Best Hyperparameter accuracy: \" + str(accuracy[max_index]))"
      ],
      "execution_count": null,
      "outputs": []
    },
    {
      "cell_type": "code",
      "metadata": {
        "id": "JUu62umKxIu3",
        "colab": {
          "base_uri": "https://localhost:8080/"
        },
        "outputId": "4dd8339c-14ac-4051-d801-d913e3878ab1"
      },
      "source": [
        "alpha = [0.01, 0.0001, 0.1, 0.2]\n",
        "roh =   [0.0001, 0.0000001, 0.000000001, 0.0000000000001]\n",
        "num_iter = [10, 20, 30, 40]\n",
        "get_best_hyperparameter(X_train, y_train, X_validation, y_validation,alpha, roh, num_iter)"
      ],
      "execution_count": null,
      "outputs": [
        {
          "output_type": "stream",
          "name": "stdout",
          "text": [
            "Epoch: 0 ------> ------> Mse: 0.4675925925925926 \t \n",
            "Epoch: 1 ------> ------> Mse: 0.2222222222222222 \t \n",
            "Epoch: 2 ------> ------> Mse: 0.23148148148148148 \t \n",
            "Epoch: 3 ------> ------> Mse: 0.19907407407407407 \t \n",
            "Epoch: 4 ------> ------> Mse: 0.18981481481481483 \t \n",
            "Epoch: 5 ------> ------> Mse: 0.18981481481481483 \t \n",
            "Converged through roh criteria: epoch = 107\n",
            "Train Accuracy: 84.25925925925925\n",
            "Validation Accuracy: 83.33333333333334\n",
            "Epoch: 0 ------> ------> Mse: 1.0 \t \n",
            "Epoch: 1 ------> ------> Mse: 1.0 \t \n",
            "Converged through roh criteria: epoch = 107\n",
            "Train Accuracy: 68.51851851851852\n",
            "Validation Accuracy: 50.0\n",
            "Epoch: 0 ------> ------> Mse: 0.25 \t \n",
            "Epoch: 1 ------> ------> Mse: 0.22685185185185186 \t \n",
            "Epoch: 2 ------> ------> Mse: 0.20833333333333334 \t \n",
            "Epoch: 3 ------> ------> Mse: 0.19907407407407407 \t \n",
            "Epoch: 4 ------> ------> Mse: 0.2361111111111111 \t \n",
            "Epoch: 5 ------> ------> Mse: 0.2175925925925926 \t \n",
            "Epoch: 6 ------> ------> Mse: 0.20833333333333334 \t \n",
            "Epoch: 7 ------> ------> Mse: 0.17592592592592593 \t \n",
            "Epoch: 8 ------> ------> Mse: 0.20833333333333334 \t \n",
            "Epoch: 9 ------> ------> Mse: 0.2361111111111111 \t \n",
            "Epoch: 10 ------> ------> Mse: 0.18981481481481483 \t \n",
            "Epoch: 11 ------> ------> Mse: 0.19907407407407407 \t \n",
            "Epoch: 12 ------> ------> Mse: 0.2222222222222222 \t \n",
            "Epoch: 13 ------> ------> Mse: 0.2037037037037037 \t \n",
            "Epoch: 14 ------> ------> Mse: 0.2037037037037037 \t \n",
            "Converged through roh criteria: epoch = 107\n",
            "Train Accuracy: 86.11111111111111\n",
            "Validation Accuracy: 83.33333333333334\n",
            "Epoch: 0 ------> ------> Mse: 0.2824074074074074 \t \n",
            "Epoch: 1 ------> ------> Mse: 0.2638888888888889 \t \n",
            "Epoch: 2 ------> ------> Mse: 0.18518518518518517 \t \n",
            "Epoch: 3 ------> ------> Mse: 0.20833333333333334 \t \n",
            "Epoch: 4 ------> ------> Mse: 0.2222222222222222 \t \n",
            "Epoch: 5 ------> ------> Mse: 0.19444444444444445 \t \n",
            "Epoch: 6 ------> ------> Mse: 0.20833333333333334 \t \n",
            "Epoch: 7 ------> ------> Mse: 0.2037037037037037 \t \n",
            "Epoch: 8 ------> ------> Mse: 0.17592592592592593 \t \n",
            "Epoch: 9 ------> ------> Mse: 0.2037037037037037 \t \n",
            "Epoch: 10 ------> ------> Mse: 0.20833333333333334 \t \n",
            "Epoch: 11 ------> ------> Mse: 0.17592592592592593 \t \n",
            "Epoch: 12 ------> ------> Mse: 0.14814814814814814 \t \n",
            "Epoch: 13 ------> ------> Mse: 0.19444444444444445 \t \n",
            "Epoch: 14 ------> ------> Mse: 0.1527777777777778 \t \n",
            "Epoch: 15 ------> ------> Mse: 0.19444444444444445 \t \n",
            "Epoch: 16 ------> ------> Mse: 0.19444444444444445 \t \n",
            "Converged through roh criteria: epoch = 107\n",
            "Train Accuracy: 87.96296296296296\n",
            "Validation Accuracy: 83.33333333333334\n",
            "Best hyperparameter value is alpha = 0.01, roh = 0.0001 and num_iter = 10\n",
            "Best Hyperparameter accuracy: 83.33333333333334\n"
          ]
        }
      ]
    },
    {
      "cell_type": "markdown",
      "metadata": {
        "id": "qxCj_vL_2iXJ"
      },
      "source": [
        "# Overfitting Detection\n",
        "Check for overfitting on the validation set by plotting graph during training  of the finalized model."
      ]
    },
    {
      "cell_type": "code",
      "metadata": {
        "id": "EKP_mYB12eJY"
      },
      "source": [
        "def plotting(x, y_1, y_2, label_1, label_2, t):\n",
        "      plt.plot(x, y_1, label = label_1)\n",
        "      plt.plot(x, y_2, label = label_2)\n",
        "      plt.title(t)\n",
        "      plt.legend()\n",
        "      plt.show()"
      ],
      "execution_count": null,
      "outputs": []
    },
    {
      "cell_type": "code",
      "metadata": {
        "id": "qi3_LcnM-GZD"
      },
      "source": [
        "def predict_inner(X, all_weights):\n",
        "  # add intercept into x values\n",
        "  #X = add_intercept(x)\n",
        "  y = []\n",
        "  for i in range(len(X)):\n",
        "    d1 = np.dot(all_weights[0], X[i].T)\n",
        "    d2 = np.dot(all_weights[1], X[i].T)\n",
        "    d3 = np.dot(all_weights[2], X[i].T)\n",
        "    if (d1 > d2 and d1 > d3):\n",
        "      y.append(0)\n",
        "    elif (d2 > d1 and d2 > d3):\n",
        "      y.append(1)\n",
        "    else :\n",
        "      y.append(2)\n",
        "  return y"
      ],
      "execution_count": null,
      "outputs": []
    },
    {
      "cell_type": "code",
      "metadata": {
        "id": "NDH9R9hI28qB"
      },
      "source": [
        "def slp_overfitting_detection(x, y, x_valid, y_valid, lr=0.01, roh = 0.000001, num_iter=100):\n",
        "  x = add_intercept(x) # add intercept in the feature vectors (in independent varibales)\n",
        "  x_valid = add_intercept(x_valid)\n",
        "  all_hypothesis = []\n",
        "  all_weights = []\n",
        "  final_hypothesis = []\n",
        "  train_logloss = []\n",
        "  train_mse = []\n",
        "  validation_logloss = []\n",
        "  validation_mse = []\n",
        "  classes = list(set(y)) # find how many classes are there...\n",
        "  d = np.ones(len(classes))\n",
        "  d_valid = np.ones(len(classes))\n",
        "  # calculate the weight vector (2D array, shape will be (no_of_classes*no_of_feature_vector))\n",
        "  for i in range(0, len(classes)):\n",
        "    weight = np.ones(x.shape[1])*0.1\n",
        "    all_weights.append(weight)\n",
        "  all_weights = np.array(all_weights)\n",
        "  converged = True\n",
        "  epoch = 0\n",
        "  # make one hot encoding\n",
        "  y_onehot = one_hot_encoding(y)\n",
        "  y_valid_onehot = one_hot_encoding(y_valid)\n",
        "  current_loss = 0\n",
        "  while converged:\n",
        "    logloss_error = 0\n",
        "    mse_error = 0   # at the starting of each epoch mse will be 0\n",
        "    valid_mse_error = 0\n",
        "    #----------------------------     Training Sample   ------------------------\n",
        "    for i in range(0, x.shape[0]): # for each training sample one by one\n",
        "      hypo = np.ones(len(classes))\n",
        "      for k in range(0, len(classes)): # for calculating d values\n",
        "        z = np.dot(x[i], all_weights[k].T)\n",
        "        #h = sigmoid(z)  # hypothesis\n",
        "        h = z\n",
        "        hypo[k] = h\n",
        "        if (h>=0):\n",
        "          d[k] = 1 # predicted one\n",
        "        if (h<0):\n",
        "          d[k] = 0 # predicted one\n",
        "      # calculate the errror (mse and logloss)\n",
        "      # but we are converging through the logloss only\n",
        "      mse_error = mse_error + mse_in_iter(d, y_onehot[i])\n",
        "      #logloss_error = logloss_error + loss(hypo, y_onehot[i])\n",
        "      # Weight updation using the current training sample\n",
        "      update_weights = []\n",
        "      for j in range(0, len(classes)):\n",
        "        all_weights[j] = all_weights[j] + x[i]*(y_onehot[i][j]-d[j])*lr\n",
        "    #---------------------------------------------------------------------------\n",
        "    # store train and validation mse epoch by epoch\n",
        "    #train_logloss.append(logloss_error)\n",
        "    train_mse.append(mse_error)\n",
        "    #-----------------       check for the validation   ------------------------\n",
        "    for i in range(0, x_valid.shape[0]): # for each training sample one by one\n",
        "      hypo_valid = np.ones(len(classes))\n",
        "      for k in range(0, len(classes)): # for calculating d values\n",
        "        z_valid = np.dot(x_valid[i], all_weights[k].T)\n",
        "        #h_valid = sigmoid(z_valid)  # hypothesis\n",
        "        h_valid = z_valid\n",
        "        hypo_valid[k] = h_valid\n",
        "        if (h_valid>=0):\n",
        "          d_valid[k] = 1 # predicted one\n",
        "        if (h_valid<0):\n",
        "          d_valid[k] = 0 # predicted one\n",
        "      valid_mse_error = valid_mse_error + mse_in_iter(d_valid, y_valid_onehot[i])\n",
        "      #valid_logloss_error = logloss_error + loss(hypo_valid, y_valid_onehot[i])\n",
        "    #validation_logloss.append(valid_logloss_error)\n",
        "    validation_mse.append(valid_mse_error)\n",
        "    print(f'Epoch: {epoch} ------>' + f' ------> Mse: {mse_error/x.shape[0]} \\t ')\n",
        "    if(abs(current_loss - (mse_error/x.shape[0])) <= roh):\n",
        "        print(f\"Converged through roh criteria: epoch = {i}\")\n",
        "        break # converged\n",
        "    current_loss = mse_error/x.shape[0] # save the previous error to calculate the diff in current error and previous error\n",
        "    epoch = epoch + 1\n",
        "    if (epoch== num_iter):\n",
        "      print(\"Converged through maximum epoch no criteria...\") # converged\n",
        "      # return the traning accuracy also\n",
        "      return all_weights\n",
        "  #train_logloss = np.array(train_logloss)\n",
        "  train_mse = np.array(train_mse)\n",
        "  #validation_logloss =  np.array(validation_logloss)\n",
        "  validation_mse = np.array(validation_mse)\n",
        "  plot_x = []\n",
        "  for i in range(0, epoch+1):\n",
        "    plot_x.append(i+1)\n",
        "  # plot here\n",
        "  plotting(plot_x, train_mse, validation_mse, \"Train Mse\",\"Validation Mse\", \"Epoch vs Training and Validation Mse\")\n",
        "  print(validation_mse)\n",
        "  print(train_mse)\n",
        "  #plotting(plot_x, train_logloss, validation_logloss, \"Train Logloss\",\"Validation Logloss\", \"Epoch vs Training and Validation Logloss\")"
      ],
      "execution_count": null,
      "outputs": []
    },
    {
      "cell_type": "code",
      "metadata": {
        "colab": {
          "base_uri": "https://localhost:8080/"
        },
        "id": "o1H-5d5J0kDc",
        "outputId": "28a329a8-a50e-4fb6-934e-dd21e58110d3"
      },
      "source": [
        "# Do the splitting on the first fold\n",
        "# Train test validation\n",
        "from sklearn.model_selection import train_test_split\n",
        "import random\n",
        "# train(70%), validation (10%), and test(20%)\n",
        "X_train, X_validation, y_train, y_validation = train_test_split(all_x_train[0], all_y_train[0] , test_size=0.2, random_state=random.randint(30,100))\n",
        "print(\"Size of the train dataset:\" + str(X_train.shape))\n",
        "print(\"Size of the validation dataset:\" + str(X_validation.shape))"
      ],
      "execution_count": null,
      "outputs": [
        {
          "output_type": "stream",
          "name": "stdout",
          "text": [
            "Size of the train dataset:(96, 4)\n",
            "Size of the validation dataset:(24, 4)\n"
          ]
        }
      ]
    },
    {
      "cell_type": "code",
      "metadata": {
        "colab": {
          "base_uri": "https://localhost:8080/",
          "height": 458
        },
        "id": "ndyDzBSm3Ag_",
        "outputId": "ce1753bb-b9f0-461b-f0fa-dfd582501a48"
      },
      "source": [
        "slp_overfitting_detection(X_train, y_train, X_validation, y_validation, lr=0.01, roh = 0.000001, num_iter=100)"
      ],
      "execution_count": null,
      "outputs": [
        {
          "output_type": "stream",
          "name": "stdout",
          "text": [
            "Epoch: 0 ------> ------> Mse: 0.484375 \t \n",
            "Epoch: 1 ------> ------> Mse: 0.2708333333333333 \t \n",
            "Epoch: 2 ------> ------> Mse: 0.25 \t \n",
            "Epoch: 3 ------> ------> Mse: 0.265625 \t \n",
            "Epoch: 4 ------> ------> Mse: 0.25 \t \n",
            "Epoch: 5 ------> ------> Mse: 0.21875 \t \n",
            "Epoch: 6 ------> ------> Mse: 0.21875 \t \n",
            "Converged through roh criteria: epoch = 23\n"
          ]
        },
        {
          "output_type": "display_data",
          "data": {
            "image/png": "[encoded data removed]",
            "text/plain": [
              "<Figure size 432x288 with 1 Axes>"
            ]
          },
          "metadata": {
            "needs_background": "light"
          }
        },
        {
          "output_type": "stream",
          "name": "stdout",
          "text": [
            "[6.5 6.5 6.5 6.5 6.5 7.  6.5]\n",
            "[46.5 26.  24.  25.5 24.  21.  21. ]\n"
          ]
        }
      ]
    }
  ]
}