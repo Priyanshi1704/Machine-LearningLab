{
  "nbformat": 4,
  "nbformat_minor": 0,
  "metadata": {
    "colab": {
      "provenance": [],
      "collapsed_sections": [],
      "include_colab_link": true
    },
    "kernelspec": {
      "display_name": "Python 3",
      "name": "python3"
    }
  },
  "cells": [
    {
      "cell_type": "markdown",
      "metadata": {
        "id": "view-in-github",
        "colab_type": "text"
      },
      "source": [
        "<a href=\"https://colab.research.google.com/github/Priyanshi1704/Machine-LearningLab/blob/main/ML_mini_project_py.ipynb\" target=\"_parent\"><img src=\"https://colab.research.google.com/assets/colab-badge.svg\" alt=\"Open In Colab\"/></a>"
      ]
    },
    {
      "cell_type": "markdown",
      "metadata": {
        "id": "wM8aRwyNlfa0"
      },
      "source": [
        "Mini Project : credit card fraud detection using neural networks"
      ]
    },
    {
      "cell_type": "code",
      "metadata": {
        "id": "91ddo5zmhOYt"
      },
      "source": [
        "import numpy as np\n",
        "import pandas as pd\n",
        "import matplotlib.pyplot as plt\n",
        "from sklearn.utils import shuffle\n",
        "from sklearn.model_selection import KFold\n",
        "import seaborn as sns\n",
        "import os\n",
        "import sys\n",
        "%matplotlib inline\n",
        "import warnings\n",
        "warnings.filterwarnings('ignore')"
      ],
      "execution_count": null,
      "outputs": []
    },
    {
      "cell_type": "code",
      "metadata": {
        "id": "UUPE1w4whOVb"
      },
      "source": [
        "df= pd.read_csv('default-of-credit-card-clients.csv')\n"
      ],
      "execution_count": null,
      "outputs": []
    },
    {
      "cell_type": "code",
      "metadata": {
        "id": "kAYW3tEShOQk",
        "colab": {
          "base_uri": "https://localhost:8080/"
        },
        "outputId": "6e08fea7-1ab3-4a3d-fb9c-3767c1ecce34"
      },
      "source": [
        "print(df.columns)\n",
        "print(df.shape)"
      ],
      "execution_count": null,
      "outputs": [
        {
          "output_type": "stream",
          "name": "stdout",
          "text": [
            "Index(['ID', 'LIMIT_BAL', 'SEX', 'EDUCATION', 'MARRIAGE', 'AGE', 'PAY_0',\n",
            "       'PAY_2', 'PAY_3', 'PAY_4', 'PAY_5', 'PAY_6', 'BILL_AMT1', 'BILL_AMT2',\n",
            "       'BILL_AMT3', 'BILL_AMT4', 'BILL_AMT5', 'BILL_AMT6', 'PAY_AMT1',\n",
            "       'PAY_AMT2', 'PAY_AMT3', 'PAY_AMT4', 'PAY_AMT5', 'PAY_AMT6',\n",
            "       'default payment next month'],\n",
            "      dtype='object')\n",
            "(30000, 25)\n"
          ]
        }
      ]
    },
    {
      "cell_type": "code",
      "metadata": {
        "colab": {
          "base_uri": "https://localhost:8080/"
        },
        "id": "jJy2alreDNmV",
        "outputId": "5618f262-92cb-406d-9354-dba4619c3174"
      },
      "source": [
        "df = df.drop('ID', axis = 1)\n",
        "#Look at the number and name of columns in dataset.\n",
        "print(df.columns)\n",
        "print(df.shape)"
      ],
      "execution_count": null,
      "outputs": [
        {
          "output_type": "stream",
          "name": "stdout",
          "text": [
            "Index(['LIMIT_BAL', 'SEX', 'EDUCATION', 'MARRIAGE', 'AGE', 'PAY_0', 'PAY_2',\n",
            "       'PAY_3', 'PAY_4', 'PAY_5', 'PAY_6', 'BILL_AMT1', 'BILL_AMT2',\n",
            "       'BILL_AMT3', 'BILL_AMT4', 'BILL_AMT5', 'BILL_AMT6', 'PAY_AMT1',\n",
            "       'PAY_AMT2', 'PAY_AMT3', 'PAY_AMT4', 'PAY_AMT5', 'PAY_AMT6',\n",
            "       'default payment next month'],\n",
            "      dtype='object')\n",
            "(30000, 24)\n"
          ]
        }
      ]
    },
    {
      "cell_type": "code",
      "metadata": {
        "colab": {
          "base_uri": "https://localhost:8080/"
        },
        "id": "BuweGn63D368",
        "outputId": "2e3cf1a3-0629-47b2-b07c-63dab84e0cae"
      },
      "source": [
        "#Check the info() of the dataset whether all the columns in dataset have the same datatype or not.\n",
        "df.info()"
      ],
      "execution_count": null,
      "outputs": [
        {
          "output_type": "stream",
          "name": "stdout",
          "text": [
            "<class 'pandas.core.frame.DataFrame'>\n",
            "RangeIndex: 30000 entries, 0 to 29999\n",
            "Data columns (total 24 columns):\n",
            " #   Column                      Non-Null Count  Dtype\n",
            "---  ------                      --------------  -----\n",
            " 0   LIMIT_BAL                   30000 non-null  int64\n",
            " 1   SEX                         30000 non-null  int64\n",
            " 2   EDUCATION                   30000 non-null  int64\n",
            " 3   MARRIAGE                    30000 non-null  int64\n",
            " 4   AGE                         30000 non-null  int64\n",
            " 5   PAY_0                       30000 non-null  int64\n",
            " 6   PAY_2                       30000 non-null  int64\n",
            " 7   PAY_3                       30000 non-null  int64\n",
            " 8   PAY_4                       30000 non-null  int64\n",
            " 9   PAY_5                       30000 non-null  int64\n",
            " 10  PAY_6                       30000 non-null  int64\n",
            " 11  BILL_AMT1                   30000 non-null  int64\n",
            " 12  BILL_AMT2                   30000 non-null  int64\n",
            " 13  BILL_AMT3                   30000 non-null  int64\n",
            " 14  BILL_AMT4                   30000 non-null  int64\n",
            " 15  BILL_AMT5                   30000 non-null  int64\n",
            " 16  BILL_AMT6                   30000 non-null  int64\n",
            " 17  PAY_AMT1                    30000 non-null  int64\n",
            " 18  PAY_AMT2                    30000 non-null  int64\n",
            " 19  PAY_AMT3                    30000 non-null  int64\n",
            " 20  PAY_AMT4                    30000 non-null  int64\n",
            " 21  PAY_AMT5                    30000 non-null  int64\n",
            " 22  PAY_AMT6                    30000 non-null  int64\n",
            " 23  default payment next month  30000 non-null  int64\n",
            "dtypes: int64(24)\n",
            "memory usage: 5.5 MB\n"
          ]
        }
      ]
    },
    {
      "cell_type": "code",
      "metadata": {
        "colab": {
          "base_uri": "https://localhost:8080/"
        },
        "id": "Wx9ibroXEC4n",
        "outputId": "706ffbb0-46db-4ba5-8f82-b8576b7fa3bc"
      },
      "source": [
        "#Checking for missing values\n",
        "df.isnull().sum()"
      ],
      "execution_count": null,
      "outputs": [
        {
          "output_type": "execute_result",
          "data": {
            "text/plain": [
              "LIMIT_BAL                     0\n",
              "SEX                           0\n",
              "EDUCATION                     0\n",
              "MARRIAGE                      0\n",
              "AGE                           0\n",
              "PAY_0                         0\n",
              "PAY_2                         0\n",
              "PAY_3                         0\n",
              "PAY_4                         0\n",
              "PAY_5                         0\n",
              "PAY_6                         0\n",
              "BILL_AMT1                     0\n",
              "BILL_AMT2                     0\n",
              "BILL_AMT3                     0\n",
              "BILL_AMT4                     0\n",
              "BILL_AMT5                     0\n",
              "BILL_AMT6                     0\n",
              "PAY_AMT1                      0\n",
              "PAY_AMT2                      0\n",
              "PAY_AMT3                      0\n",
              "PAY_AMT4                      0\n",
              "PAY_AMT5                      0\n",
              "PAY_AMT6                      0\n",
              "default payment next month    0\n",
              "dtype: int64"
            ]
          },
          "metadata": {},
          "execution_count": 74
        }
      ]
    },
    {
      "cell_type": "code",
      "metadata": {
        "colab": {
          "base_uri": "https://localhost:8080/",
          "height": 279
        },
        "id": "ad4FBLpUjSO7",
        "outputId": "63edd3bf-51e2-4bd3-a2bf-494afae09d2b"
      },
      "source": [
        "# Check the distribution of class labels\n",
        "df['default payment next month'].value_counts().plot.bar()\n",
        "# class distributions are highly imbalanced"
      ],
      "execution_count": null,
      "outputs": [
        {
          "output_type": "execute_result",
          "data": {
            "text/plain": [
              "<matplotlib.axes._subplots.AxesSubplot at 0x7f98f7e47750>"
            ]
          },
          "metadata": {},
          "execution_count": 75
        },
        {
          "output_type": "display_data",
          "data": {
            "image/png": "[encoded data removed]",
            "text/plain": [
              "<Figure size 432x288 with 1 Axes>"
            ]
          },
          "metadata": {
            "needs_background": "light"
          }
        }
      ]
    },
    {
      "cell_type": "code",
      "metadata": {
        "colab": {
          "base_uri": "https://localhost:8080/",
          "height": 279
        },
        "id": "B1M2Vn-SkHxi",
        "outputId": "9a030b9c-8e20-4fb8-b9d0-970159603ef7"
      },
      "source": [
        "df['SEX'].value_counts().plot.bar()\n",
        "# It finds that The number of Male credit holder is less than Female."
      ],
      "execution_count": null,
      "outputs": [
        {
          "output_type": "execute_result",
          "data": {
            "text/plain": [
              "<matplotlib.axes._subplots.AxesSubplot at 0x7f98f55f2b10>"
            ]
          },
          "metadata": {},
          "execution_count": 76
        },
        {
          "output_type": "display_data",
          "data": {
            "image/png": "[encoded data removed]",
            "text/plain": [
              "<Figure size 432x288 with 1 Axes>"
            ]
          },
          "metadata": {
            "needs_background": "light"
          }
        }
      ]
    },
    {
      "cell_type": "code",
      "metadata": {
        "colab": {
          "base_uri": "https://localhost:8080/",
          "height": 296
        },
        "id": "ipaHifuwkHrR",
        "outputId": "23bb13a5-a07e-433c-d2ea-7fa202e58311"
      },
      "source": [
        "sns.distplot(df['AGE'],kde=True,bins=30)\n",
        "# There is a large number of clients whose age is between 25 to 40"
      ],
      "execution_count": null,
      "outputs": [
        {
          "output_type": "execute_result",
          "data": {
            "text/plain": [
              "<matplotlib.axes._subplots.AxesSubplot at 0x7f98f7250890>"
            ]
          },
          "metadata": {},
          "execution_count": 77
        },
        {
          "output_type": "display_data",
          "data": {
            "image/png": "[encoded data removed]",
            "text/plain": [
              "<Figure size 432x288 with 1 Axes>"
            ]
          },
          "metadata": {
            "needs_background": "light"
          }
        }
      ]
    },
    {
      "cell_type": "code",
      "metadata": {
        "colab": {
          "base_uri": "https://localhost:8080/",
          "height": 1000
        },
        "id": "VXBoCdUCkW1q",
        "outputId": "b8b3b548-e1d2-4354-c352-fb8ba9c012aa"
      },
      "source": [
        "# Plot histograms of each parameter \n",
        "df.hist(figsize = (20, 20))\n",
        "plt.show()"
      ],
      "execution_count": null,
      "outputs": [
        {
          "output_type": "display_data",
          "data": {
            "image/png": "[encoded data removed]",
            "text/plain": [
              "<Figure size 1440x1440 with 25 Axes>"
            ]
          },
          "metadata": {
            "needs_background": "light"
          }
        }
      ]
    },
    {
      "cell_type": "code",
      "metadata": {
        "id": "eCNh7_yyhODc",
        "colab": {
          "base_uri": "https://localhost:8080/"
        },
        "outputId": "91e8e05e-357d-4cd7-e432-c4813d694051"
      },
      "source": [
        "# Determine number of fraud cases in dataset\n",
        "Fraud = df[df['default payment next month'] == 1]\n",
        "Valid = df[df['default payment next month'] == 0]\n",
        "\n",
        "outlier_fraction = len(Fraud)/float(len(Valid))\n",
        "print(outlier_fraction)\n",
        "\n",
        "print('Fraud Cases: {}'.format(len(df[df['default payment next month'] == 1])))\n",
        "print('Valid Transactions: {}'.format(len(df[df['default payment next month'] == 0])))"
      ],
      "execution_count": null,
      "outputs": [
        {
          "output_type": "stream",
          "name": "stdout",
          "text": [
            "0.2840267077555213\n",
            "Fraud Cases: 6636\n",
            "Valid Transactions: 23364\n"
          ]
        }
      ]
    },
    {
      "cell_type": "code",
      "metadata": {
        "id": "oXJMws0xjaJb"
      },
      "source": [
        "LABELS=[\"Valid\",\"Fraud\"]"
      ],
      "execution_count": null,
      "outputs": []
    },
    {
      "cell_type": "code",
      "metadata": {
        "id": "6XrqVowQiEcw",
        "colab": {
          "base_uri": "https://localhost:8080/",
          "height": 675
        },
        "outputId": "dc5d603f-8941-47d7-8baa-35a541d58cc1"
      },
      "source": [
        "# Correlation matrix\n",
        "corrmat = df.corr()\n",
        "fig = plt.figure(figsize = (12, 9))\n",
        "\n",
        "sns.heatmap(corrmat, vmax = .8, square = True)\n",
        "plt.show()"
      ],
      "execution_count": null,
      "outputs": [
        {
          "output_type": "display_data",
          "data": {
            "image/png": "[encoded data removed]",
            "text/plain": [
              "<Figure size 864x648 with 2 Axes>"
            ]
          },
          "metadata": {
            "needs_background": "light"
          }
        }
      ]
    },
    {
      "cell_type": "markdown",
      "metadata": {
        "id": "_zCCuCcMmNe9"
      },
      "source": [
        "#data preprocessing"
      ]
    },
    {
      "cell_type": "code",
      "metadata": {
        "colab": {
          "base_uri": "https://localhost:8080/"
        },
        "id": "Wi4hZ7rbmNLI",
        "outputId": "eae889a3-4bea-4aea-c036-42be9c44b762"
      },
      "source": [
        "df['PAY_0'].value_counts()"
      ],
      "execution_count": null,
      "outputs": [
        {
          "output_type": "execute_result",
          "data": {
            "text/plain": [
              " 0    14737\n",
              "-1     5686\n",
              " 1     3688\n",
              "-2     2759\n",
              " 2     2667\n",
              " 3      322\n",
              " 4       76\n",
              " 5       26\n",
              " 8       19\n",
              " 6       11\n",
              " 7        9\n",
              "Name: PAY_0, dtype: int64"
            ]
          },
          "metadata": {},
          "execution_count": 82
        }
      ]
    },
    {
      "cell_type": "code",
      "metadata": {
        "colab": {
          "base_uri": "https://localhost:8080/"
        },
        "id": "NQFk6mcwmNIx",
        "outputId": "fded2f68-0480-45f6-c0ef-eea1a0d97e84"
      },
      "source": [
        "# There is some double-digit count of values of the PAY_0 data feature and for some data features also. So we will create one single category of all low categories having less count.\n",
        "fill = (df.PAY_0 == 4) | (df.PAY_0==5) | (df.PAY_0==6) | (df.PAY_0==7) | (df.PAY_0==8)\n",
        "df.loc[fill,'PAY_0']=4\n",
        "df.PAY_0.value_counts()"
      ],
      "execution_count": null,
      "outputs": [
        {
          "output_type": "execute_result",
          "data": {
            "text/plain": [
              " 0    14737\n",
              "-1     5686\n",
              " 1     3688\n",
              "-2     2759\n",
              " 2     2667\n",
              " 3      322\n",
              " 4      141\n",
              "Name: PAY_0, dtype: int64"
            ]
          },
          "metadata": {},
          "execution_count": 83
        }
      ]
    },
    {
      "cell_type": "code",
      "metadata": {
        "id": "BdtiFNUUmNGa"
      },
      "source": [
        "fill = (df.PAY_2 == 4) | (df.PAY_2 == 1) | (df.PAY_2 == 5) | (df.PAY_2 == 7) | (df.PAY_2 == 6) | (df.PAY_2 == 8)\n",
        "df.loc[fill,'PAY_2']=4\n",
        "#df.PAY_2.value_counts()\n",
        "fill = (df.PAY_3 == 4) | (df.PAY_3 == 1) | (df.PAY_3 == 5) | (df.PAY_3 == 7) | (df.PAY_3 == 6) | (df.PAY_3 == 8)\n",
        "df.loc[fill,'PAY_3']=4\n",
        "#df.PAY_3.value_counts()\n",
        "fill = (df.PAY_4 == 4) | (df.PAY_4 == 1) | (df.PAY_4 == 5) | (df.PAY_4 == 7) | (df.PAY_4 == 6) | (df.PAY_4 == 8)\n",
        "df.loc[fill,'PAY_4']=4\n",
        "#df.PAY_4.value_counts()\n",
        "fill = (df.PAY_5 == 4) | (df.PAY_5 == 7) | (df.PAY_5 == 5) | (df.PAY_5 == 6) | (df.PAY_5 == 8)\n",
        "df.loc[fill,'PAY_5']=4\n",
        "#df.PAY_5.value_counts()\n",
        "fill = (df.PAY_6 == 4) | (df.PAY_6 == 7) | (df.PAY_6 == 5) | (df.PAY_6 == 6) | (df.PAY_6 == 8)\n",
        "df.loc[fill,'PAY_6']=4\n",
        "#df.PAY_6.value_counts()"
      ],
      "execution_count": null,
      "outputs": []
    },
    {
      "cell_type": "code",
      "metadata": {
        "id": "AZ269abXmNC3"
      },
      "source": [
        "df.columns = df.columns.map(str.lower)\n",
        "col_to_norm = ['limit_bal', 'age', 'bill_amt1', 'bill_amt2', 'bill_amt3', 'bill_amt4', 'bill_amt5', 'bill_amt6', 'pay_amt1', 'pay_amt2', 'pay_amt3', 'pay_amt4', 'pay_amt5', 'pay_amt6']\n",
        "#you can inbuilt StandardScalar() or MinMaxScalar() also\n",
        "df[col_to_norm] = df[col_to_norm].apply(lambda x :( x-np.mean(x))/np.std(x))\n",
        "#df.head()"
      ],
      "execution_count": null,
      "outputs": []
    },
    {
      "cell_type": "code",
      "metadata": {
        "id": "-2DMS8ZwmM_8"
      },
      "source": [
        "X = df.iloc[:,:-1].values\n",
        "y = df.iloc[:,-1].values"
      ],
      "execution_count": null,
      "outputs": []
    },
    {
      "cell_type": "markdown",
      "metadata": {
        "id": "jdhkIks9mke5"
      },
      "source": [
        "#5 fold"
      ]
    },
    {
      "cell_type": "code",
      "metadata": {
        "id": "ZPI55ablmM8o"
      },
      "source": [
        "# shuffel the dataset\n",
        "X, y = shuffle(X, y, random_state=100)"
      ],
      "execution_count": null,
      "outputs": []
    },
    {
      "cell_type": "code",
      "metadata": {
        "id": "zJI3r2xJmM5p"
      },
      "source": [
        "def fold(features,y_actual):\n",
        "  kf = KFold(n_splits=5,random_state=1000, shuffle=True)\n",
        "  kf.get_n_splits(features)\n",
        "  all_x_train = []\n",
        "  all_x_test = []\n",
        "  all_y_train = []\n",
        "  all_y_test = []\n",
        "  for train_index, test_index in kf.split(features):\n",
        "    X_train, X_test = features[train_index], features[test_index]\n",
        "    y_train, y_test = y_actual[train_index], y_actual[test_index]\n",
        "    all_x_train.append(X_train)\n",
        "    all_x_test.append(X_test)\n",
        "    all_y_train.append(y_train)\n",
        "    all_y_test.append(y_test)\n",
        "  all_x_train, all_x_test, all_y_train, all_y_test  = np.array(all_x_train), np.array(all_x_test), np.array(all_y_train), np.array(all_y_test)\n",
        "  for i in range(0, 5):\n",
        "    all_y_train[i] = all_y_train[i].flatten()\n",
        "  return all_x_train, all_x_test, all_y_train, all_y_test"
      ],
      "execution_count": null,
      "outputs": []
    },
    {
      "cell_type": "code",
      "metadata": {
        "id": "O4LdNKLrmtuJ"
      },
      "source": [
        "all_x_train, all_x_test, all_y_train, all_y_test = fold(X, y)"
      ],
      "execution_count": null,
      "outputs": []
    },
    {
      "cell_type": "code",
      "metadata": {
        "colab": {
          "base_uri": "https://localhost:8080/"
        },
        "id": "pfG3ZRotmtrc",
        "outputId": "0696221f-2819-4704-d8ea-e99caba17329"
      },
      "source": [
        "set(all_y_train[0])\n",
        "# as we have yes or no in output label"
      ],
      "execution_count": null,
      "outputs": [
        {
          "output_type": "execute_result",
          "data": {
            "text/plain": [
              "{0, 1}"
            ]
          },
          "metadata": {},
          "execution_count": 90
        }
      ]
    },
    {
      "cell_type": "markdown",
      "metadata": {
        "id": "tFcNVCDjnLde"
      },
      "source": [
        "#Logistic Regression"
      ]
    },
    {
      "cell_type": "code",
      "metadata": {
        "id": "QK5KOUWAmtod"
      },
      "source": [
        "from sklearn.linear_model import LogisticRegression\n",
        "from sklearn.metrics import  accuracy_score, f1_score, precision_score, recall_score, classification_report, confusion_matrix"
      ],
      "execution_count": null,
      "outputs": []
    },
    {
      "cell_type": "code",
      "metadata": {
        "colab": {
          "base_uri": "https://localhost:8080/"
        },
        "id": "azgbyiccmtlo",
        "outputId": "92a0e30a-3146-4cd3-d945-44a7f0fc7c7d"
      },
      "source": [
        "#Start with logistic regression model\n",
        "for i in range(0, 5): # for 5 fold\n",
        "  print(\"For fold no:\", i+1)\n",
        "  print(\"-\"*100)\n",
        "  logistic_reg_classifier = LogisticRegression(penalty = 'none', random_state=10, solver = 'sag', max_iter = 2).fit(all_x_train[i], all_y_train[i])\n",
        "  print(\"Accuracy on training data: \" + str(logistic_reg_classifier.score(all_x_train[i], all_y_train[i])*100) + \"%\")\n",
        "  predicted = logistic_reg_classifier.predict(all_x_test[i])\n",
        "  print(\"Testing Accuracy Score: \" + str(accuracy_score(all_y_test[i], predicted)*100))\n",
        "  print('Confusion Matrix : \\n' + str(confusion_matrix(all_y_test[i], predicted)))\n",
        "  print(\"Classification Report for 2-classes: \")\n",
        "  out_labels = [0, 1]\n",
        "  print(classification_report(all_y_test[i], predicted, out_labels, digits=5))\n",
        "  print(\"-\"*100)"
      ],
      "execution_count": null,
      "outputs": [
        {
          "output_type": "stream",
          "name": "stdout",
          "text": [
            "For fold no: 1\n",
            "----------------------------------------------------------------------------------------------------\n",
            "Accuracy on training data: 81.54166666666667%\n",
            "Testing Accuracy Score: 81.06666666666666\n",
            "Confusion Matrix : \n",
            "[[4420  213]\n",
            " [ 923  444]]\n",
            "Classification Report for 2-classes: \n",
            "              precision    recall  f1-score   support\n",
            "\n",
            "           0    0.82725   0.95403   0.88613      4633\n",
            "           1    0.67580   0.32480   0.43874      1367\n",
            "\n",
            "    accuracy                        0.81067      6000\n",
            "   macro avg    0.75152   0.63941   0.66243      6000\n",
            "weighted avg    0.79274   0.81067   0.78420      6000\n",
            "\n",
            "----------------------------------------------------------------------------------------------------\n",
            "For fold no: 2\n",
            "----------------------------------------------------------------------------------------------------\n",
            "Accuracy on training data: 81.31666666666668%\n",
            "Testing Accuracy Score: 82.05\n",
            "Confusion Matrix : \n",
            "[[4504  196]\n",
            " [ 881  419]]\n",
            "Classification Report for 2-classes: \n",
            "              precision    recall  f1-score   support\n",
            "\n",
            "           0    0.83640   0.95830   0.89321      4700\n",
            "           1    0.68130   0.32231   0.43760      1300\n",
            "\n",
            "    accuracy                        0.82050      6000\n",
            "   macro avg    0.75885   0.64030   0.66540      6000\n",
            "weighted avg    0.80279   0.82050   0.79449      6000\n",
            "\n",
            "----------------------------------------------------------------------------------------------------\n",
            "For fold no: 3\n",
            "----------------------------------------------------------------------------------------------------\n",
            "Accuracy on training data: 81.40833333333333%\n",
            "Testing Accuracy Score: 81.58333333333333\n",
            "Confusion Matrix : \n",
            "[[4471  196]\n",
            " [ 909  424]]\n",
            "Classification Report for 2-classes: \n",
            "              precision    recall  f1-score   support\n",
            "\n",
            "           0    0.83104   0.95800   0.89002      4667\n",
            "           1    0.68387   0.31808   0.43420      1333\n",
            "\n",
            "    accuracy                        0.81583      6000\n",
            "   macro avg    0.75746   0.63804   0.66211      6000\n",
            "weighted avg    0.79834   0.81583   0.78875      6000\n",
            "\n",
            "----------------------------------------------------------------------------------------------------\n",
            "For fold no: 4\n",
            "----------------------------------------------------------------------------------------------------\n",
            "Accuracy on training data: 81.47083333333333%\n",
            "Testing Accuracy Score: 80.96666666666667\n",
            "Confusion Matrix : \n",
            "[[4486  183]\n",
            " [ 959  372]]\n",
            "Classification Report for 2-classes: \n",
            "              precision    recall  f1-score   support\n",
            "\n",
            "           0    0.82388   0.96081   0.88709      4669\n",
            "           1    0.67027   0.27949   0.39449      1331\n",
            "\n",
            "    accuracy                        0.80967      6000\n",
            "   macro avg    0.74707   0.62015   0.64079      6000\n",
            "weighted avg    0.78980   0.80967   0.77781      6000\n",
            "\n",
            "----------------------------------------------------------------------------------------------------\n",
            "For fold no: 5\n",
            "----------------------------------------------------------------------------------------------------\n",
            "Accuracy on training data: 81.52916666666667%\n",
            "Testing Accuracy Score: 81.5\n",
            "Confusion Matrix : \n",
            "[[4501  194]\n",
            " [ 916  389]]\n",
            "Classification Report for 2-classes: \n",
            "              precision    recall  f1-score   support\n",
            "\n",
            "           0    0.83090   0.95868   0.89023      4695\n",
            "           1    0.66724   0.29808   0.41208      1305\n",
            "\n",
            "    accuracy                        0.81500      6000\n",
            "   macro avg    0.74907   0.62838   0.65115      6000\n",
            "weighted avg    0.79531   0.81500   0.78623      6000\n",
            "\n",
            "----------------------------------------------------------------------------------------------------\n"
          ]
        }
      ]
    },
    {
      "cell_type": "markdown",
      "metadata": {
        "id": "giAeCUNvtBIu"
      },
      "source": [
        "#Sigmoid Neuron"
      ]
    },
    {
      "cell_type": "code",
      "metadata": {
        "id": "caRAQ7Yk-r6l"
      },
      "source": [
        "import numpy as np\n",
        "import matplotlib.pyplot as plt\n",
        "# it's slp\n",
        "class SigmoidNeuron:\n",
        "    def __init__(self, epoch = 10, roh=1e-3):\n",
        "        self.epoch = epoch\n",
        "        self.roh = roh\n",
        "\n",
        "    def predict(self, X):\n",
        "        return self.predict_(self.add_bias(X))\n",
        "    \n",
        "    def predict_(self, X):\n",
        "        pre_vals = np.dot(X, self.weights.T).reshape(-1,len(self.classes))\n",
        "        return self.softmax(pre_vals)\n",
        "    \n",
        "    def softmax(self, z):\n",
        "        return np.exp(z) / np.sum(np.exp(z), axis=1).reshape(-1,1)\n",
        "\n",
        "    def predict_classes(self, X):\n",
        "        self.probs_ = self.predict(X)\n",
        "        return np.vectorize(lambda c: self.classes[c])(np.argmax(self.probs_, axis=1))\n",
        "  \n",
        "    def add_bias(self, X):\n",
        "        return np.insert(X, 0, 1, axis=1)\n",
        "\n",
        "    def one_hot(self, y):\n",
        "        return np.eye(len(self.classes))[np.vectorize(lambda c: self.class_labels[c])(y).reshape(-1)]\n",
        "    \n",
        "    def score(self, X, y):\n",
        "        return np.mean(self.predict_classes(X) == y)\n",
        "    \n",
        "    def evaluate_(self, X, y):\n",
        "        return np.mean(np.argmax(self.predict_(X), axis=1) == np.argmax(y, axis=1))\n",
        "\n",
        "    def logloss(self, y, probs):\n",
        "        return np.mean(-y*np.log(probs) - (1-y)*np.log(1-probs))\n",
        "\n",
        "    def cross_entropy(self, y, probs):\n",
        "        return -1 * np.mean(y * np.log(probs))\n",
        "\n",
        "    def mse(self, y, probs):\n",
        "        return (((y - probs)**2).mean())/2\n",
        "        \n",
        "    def fit(self, X, y, lr=0.1, rand_seed=4, verbose=False):\n",
        "        np.random.seed(rand_seed) \n",
        "        self.classes = np.unique(y)\n",
        "        self.class_labels = {c:i for i,c in enumerate(self.classes)}\n",
        "        X = self.add_bias(X)\n",
        "        y = self.one_hot(y)\n",
        "        self.loss = []\n",
        "        self.weights = np.zeros(shape=(len(self.classes),X.shape[1]))*0.1\n",
        "        self.fit_data(X, y, lr, verbose)\n",
        "        return self\n",
        " \n",
        "    def fit_data(self, X, y, lr, verbose):\n",
        "        i = 0\n",
        "        xt, yt = all_x_test[0], all_y_test[0]\n",
        "        xtr, ytr = all_x_train[0], all_y_train[0]\n",
        "        while (not self.epoch or i < self.epoch):\n",
        "            self.loss.append(self.mse(y, self.predict_(X)))\n",
        "            error = y - self.predict_(X)\n",
        "            update = (lr * np.dot(error.T, X))\n",
        "            self.weights += update\n",
        "            if np.abs(update).max() < self.roh: break\n",
        "            i +=1"
      ],
      "execution_count": null,
      "outputs": []
    },
    {
      "cell_type": "code",
      "metadata": {
        "id": "9cSWwdz0mM2p",
        "colab": {
          "base_uri": "https://localhost:8080/"
        },
        "outputId": "5602a371-485d-4059-8622-0f8c6e830a96"
      },
      "source": [
        "for i in range(0, 5): # for 5 fold\n",
        "  print(\"For fold no:\", i+1)\n",
        "  print(\"-\"*100)\n",
        "  sgn = SigmoidNeuron(roh=1e-5)\n",
        "  sgn.fit(all_x_train[0], all_y_train[0], lr=0.01)\n",
        "  print(\"Accuracy on training data: \" + str(sgn.score(all_x_train[i], all_y_train[i])*100) + \"%\")\n",
        "  predicted = sgn.predict_classes(all_x_test[i])\n",
        "  print(\"Testing Accuracy Score: \" + str(accuracy_score(all_y_test[i], predicted)*100))\n",
        "  print('Confusion Matrix : \\n' + str(confusion_matrix(all_y_test[i], predicted)))\n",
        "  print(\"Classification Report for 2-classes: \")\n",
        "  out_labels = [0, 1]\n",
        "  print(classification_report(all_y_test[i], predicted, out_labels, digits=5))\n",
        "  print(\"-\"*100)"
      ],
      "execution_count": null,
      "outputs": [
        {
          "output_type": "stream",
          "name": "stdout",
          "text": [
            "For fold no: 1\n",
            "----------------------------------------------------------------------------------------------------\n",
            "Accuracy on training data: 78.04583333333333%\n",
            "Testing Accuracy Score: 77.21666666666667\n",
            "Confusion Matrix : \n",
            "[[4633    0]\n",
            " [1367    0]]\n",
            "Classification Report for 2-classes: \n",
            "              precision    recall  f1-score   support\n",
            "\n",
            "           0    0.77217   1.00000   0.87144      4633\n",
            "           1    0.00000   0.00000   0.00000      1367\n",
            "\n",
            "    accuracy                        0.77217      6000\n",
            "   macro avg    0.38608   0.50000   0.43572      6000\n",
            "weighted avg    0.59624   0.77217   0.67290      6000\n",
            "\n",
            "----------------------------------------------------------------------------------------------------\n",
            "For fold no: 2\n",
            "----------------------------------------------------------------------------------------------------\n",
            "Accuracy on training data: 77.76666666666667%\n",
            "Testing Accuracy Score: 78.33333333333333\n",
            "Confusion Matrix : \n",
            "[[4700    0]\n",
            " [1300    0]]\n",
            "Classification Report for 2-classes: \n",
            "              precision    recall  f1-score   support\n",
            "\n",
            "           0    0.78333   1.00000   0.87850      4700\n",
            "           1    0.00000   0.00000   0.00000      1300\n",
            "\n",
            "    accuracy                        0.78333      6000\n",
            "   macro avg    0.39167   0.50000   0.43925      6000\n",
            "weighted avg    0.61361   0.78333   0.68816      6000\n",
            "\n",
            "----------------------------------------------------------------------------------------------------\n",
            "For fold no: 3\n",
            "----------------------------------------------------------------------------------------------------\n",
            "Accuracy on training data: 77.90416666666667%\n",
            "Testing Accuracy Score: 77.78333333333333\n",
            "Confusion Matrix : \n",
            "[[4667    0]\n",
            " [1333    0]]\n",
            "Classification Report for 2-classes: \n",
            "              precision    recall  f1-score   support\n",
            "\n",
            "           0    0.77783   1.00000   0.87504      4667\n",
            "           1    0.00000   0.00000   0.00000      1333\n",
            "\n",
            "    accuracy                        0.77783      6000\n",
            "   macro avg    0.38892   0.50000   0.43752      6000\n",
            "weighted avg    0.60502   0.77783   0.68063      6000\n",
            "\n",
            "----------------------------------------------------------------------------------------------------\n",
            "For fold no: 4\n",
            "----------------------------------------------------------------------------------------------------\n",
            "Accuracy on training data: 77.89583333333333%\n",
            "Testing Accuracy Score: 77.81666666666666\n",
            "Confusion Matrix : \n",
            "[[4669    0]\n",
            " [1331    0]]\n",
            "Classification Report for 2-classes: \n",
            "              precision    recall  f1-score   support\n",
            "\n",
            "           0    0.77817   1.00000   0.87525      4669\n",
            "           1    0.00000   0.00000   0.00000      1331\n",
            "\n",
            "    accuracy                        0.77817      6000\n",
            "   macro avg    0.38908   0.50000   0.43762      6000\n",
            "weighted avg    0.60554   0.77817   0.68109      6000\n",
            "\n",
            "----------------------------------------------------------------------------------------------------\n",
            "For fold no: 5\n",
            "----------------------------------------------------------------------------------------------------\n",
            "Accuracy on training data: 77.7875%\n",
            "Testing Accuracy Score: 78.25\n",
            "Confusion Matrix : \n",
            "[[4695    0]\n",
            " [1305    0]]\n",
            "Classification Report for 2-classes: \n",
            "              precision    recall  f1-score   support\n",
            "\n",
            "           0    0.78250   1.00000   0.87798      4695\n",
            "           1    0.00000   0.00000   0.00000      1305\n",
            "\n",
            "    accuracy                        0.78250      6000\n",
            "   macro avg    0.39125   0.50000   0.43899      6000\n",
            "weighted avg    0.61231   0.78250   0.68702      6000\n",
            "\n",
            "----------------------------------------------------------------------------------------------------\n"
          ]
        }
      ]
    },
    {
      "cell_type": "markdown",
      "metadata": {
        "id": "rtkHQ-Lctf1Q"
      },
      "source": [
        "#Single Layer Perceptron"
      ]
    },
    {
      "cell_type": "code",
      "metadata": {
        "id": "l0bf5Nvo_uYL"
      },
      "source": [
        "import numpy as np\n",
        "import matplotlib.pyplot as plt\n",
        "# it's slp\n",
        "class SLP:\n",
        "    def __init__(self, epoch = 10, roh=1e-3):\n",
        "        self.epoch = epoch\n",
        "        self.roh = roh\n",
        "\n",
        "    def predict(self, X):\n",
        "        return self.predict_(self.add_bias(X))\n",
        "    \n",
        "    def predict_(self, X):\n",
        "        pre_vals = np.dot(X, self.weights.T).reshape(-1,len(self.classes))\n",
        "        return self.softmax(pre_vals)\n",
        "    \n",
        "    def softmax(self, z):\n",
        "        return np.exp(z) / np.sum(np.exp(z), axis=1).reshape(-1,1)\n",
        "\n",
        "    def predict_classes(self, X):\n",
        "        self.probs_ = self.predict(X)\n",
        "        return np.vectorize(lambda c: self.classes[c])(np.argmax(self.probs_, axis=1))\n",
        "  \n",
        "    def add_bias(self, X):\n",
        "        return np.insert(X, 0, 1, axis=1)\n",
        "\n",
        "    def one_hot(self, y):\n",
        "        return np.eye(len(self.classes))[np.vectorize(lambda c: self.class_labels[c])(y).reshape(-1)]\n",
        "    \n",
        "    def score(self, X, y):\n",
        "        return np.mean(self.predict_classes(X) == y)\n",
        "    \n",
        "    def evaluate_(self, X, y):\n",
        "        return np.mean(np.argmax(self.predict_(X), axis=1) == np.argmax(y, axis=1))\n",
        "\n",
        "    def logloss(self, y, probs):\n",
        "        return np.mean(-y*np.log(probs) - (1-y)*np.log(1-probs))\n",
        "\n",
        "    def cross_entropy(self, y, probs):\n",
        "        return -1 * np.mean(y * np.log(probs))\n",
        "\n",
        "    def mse(self, y, probs):\n",
        "        return (((y - probs)**2).mean())/2\n",
        "        \n",
        "    def fit(self, X, y, lr=0.1, rand_seed=4, verbose=False):\n",
        "        np.random.seed(rand_seed) \n",
        "        self.classes = np.unique(y)\n",
        "        self.class_labels = {c:i for i,c in enumerate(self.classes)}\n",
        "        X = self.add_bias(X)\n",
        "        y = self.one_hot(y)\n",
        "        self.loss = []\n",
        "        self.weights = np.zeros(shape=(len(self.classes),X.shape[1]))*0.1\n",
        "        self.fit_data(X, y, lr, verbose)\n",
        "        return self\n",
        " \n",
        "    def fit_data(self, X, y, lr, verbose):\n",
        "        i = 0\n",
        "        xt, yt = all_x_test[0], all_y_test[0]\n",
        "        xtr, ytr = all_x_train[0], all_y_train[0]\n",
        "        while (not self.epoch or i < self.epoch):\n",
        "            self.loss.append(self.mse(y, self.predict_(X)))\n",
        "            # put the thershold function on the predicted value i.e. here self.predict_(X)\n",
        "            temp = self.predict_(X)\n",
        "            for i in range(0, temp.shape[0]):\n",
        "              for j in range(0, temp.shape[1]):\n",
        "                if(temp[i][j]>=0.5):\n",
        "                  temp[i][j] = 1\n",
        "                else:\n",
        "                  temp[i][j] = 0\n",
        "            error = y - temp\n",
        "            update = (lr * np.dot(error.T, X))\n",
        "            self.weights += update\n",
        "            if np.abs(update).max() < self.roh: break\n",
        "            i +=1"
      ],
      "execution_count": null,
      "outputs": []
    },
    {
      "cell_type": "code",
      "metadata": {
        "id": "HYdCwGH6tht4",
        "colab": {
          "base_uri": "https://localhost:8080/"
        },
        "outputId": "8ec0ad30-fef5-4f85-84a5-f248ff4b378d"
      },
      "source": [
        "for i in range(0, 5): # for 5 fold\n",
        "  print(\"For fold no:\", i+1)\n",
        "  print(\"-\"*100)\n",
        "  slp = SLP(roh=1e-5)\n",
        "  slp.fit(all_x_train[0], all_y_train[0], lr=0.01)\n",
        "  print(\"Accuracy on training data: \" + str(slp.score(all_x_train[i], all_y_train[i])*100) + \"%\")\n",
        "  predicted = slp.predict_classes(all_x_test[i])\n",
        "  print(\"Testing Accuracy Score: \" + str(accuracy_score(all_y_test[i], predicted)*100))\n",
        "  print('Confusion Matrix : \\n' + str(confusion_matrix(all_y_test[i], predicted)))\n",
        "  print(\"Classification Report for 2-classes: \")\n",
        "  out_labels = [0, 1]\n",
        "  print(classification_report(all_y_test[i], predicted, out_labels, digits=5))\n",
        "  print(\"-\"*100)"
      ],
      "execution_count": null,
      "outputs": [
        {
          "output_type": "stream",
          "name": "stdout",
          "text": [
            "For fold no: 1\n",
            "----------------------------------------------------------------------------------------------------\n",
            "Accuracy on training data: 78.4%\n",
            "Testing Accuracy Score: 77.64999999999999\n",
            "Confusion Matrix : \n",
            "[[4615   18]\n",
            " [1323   44]]\n",
            "Classification Report for 2-classes: \n",
            "              precision    recall  f1-score   support\n",
            "\n",
            "           0    0.77720   0.99611   0.87314      4633\n",
            "           1    0.70968   0.03219   0.06158      1367\n",
            "\n",
            "    accuracy                        0.77650      6000\n",
            "   macro avg    0.74344   0.51415   0.46736      6000\n",
            "weighted avg    0.76181   0.77650   0.68824      6000\n",
            "\n",
            "----------------------------------------------------------------------------------------------------\n",
            "For fold no: 2\n",
            "----------------------------------------------------------------------------------------------------\n",
            "Accuracy on training data: 78.0875%\n",
            "Testing Accuracy Score: 78.9\n",
            "Confusion Matrix : \n",
            "[[4685   15]\n",
            " [1251   49]]\n",
            "Classification Report for 2-classes: \n",
            "              precision    recall  f1-score   support\n",
            "\n",
            "           0    0.78925   0.99681   0.88097      4700\n",
            "           1    0.76562   0.03769   0.07185      1300\n",
            "\n",
            "    accuracy                        0.78900      6000\n",
            "   macro avg    0.77744   0.51725   0.47641      6000\n",
            "weighted avg    0.78413   0.78900   0.70566      6000\n",
            "\n",
            "----------------------------------------------------------------------------------------------------\n",
            "For fold no: 3\n",
            "----------------------------------------------------------------------------------------------------\n",
            "Accuracy on training data: 78.24583333333334%\n",
            "Testing Accuracy Score: 78.26666666666667\n",
            "Confusion Matrix : \n",
            "[[4658    9]\n",
            " [1295   38]]\n",
            "Classification Report for 2-classes: \n",
            "              precision    recall  f1-score   support\n",
            "\n",
            "           0    0.78246   0.99807   0.87721      4667\n",
            "           1    0.80851   0.02851   0.05507      1333\n",
            "\n",
            "    accuracy                        0.78267      6000\n",
            "   macro avg    0.79549   0.51329   0.46614      6000\n",
            "weighted avg    0.78825   0.78267   0.69456      6000\n",
            "\n",
            "----------------------------------------------------------------------------------------------------\n",
            "For fold no: 4\n",
            "----------------------------------------------------------------------------------------------------\n",
            "Accuracy on training data: 78.34583333333333%\n",
            "Testing Accuracy Score: 77.86666666666666\n",
            "Confusion Matrix : \n",
            "[[4646   23]\n",
            " [1305   26]]\n",
            "Classification Report for 2-classes: \n",
            "              precision    recall  f1-score   support\n",
            "\n",
            "           0    0.78071   0.99507   0.87495      4669\n",
            "           1    0.53061   0.01953   0.03768      1331\n",
            "\n",
            "    accuracy                        0.77867      6000\n",
            "   macro avg    0.65566   0.50730   0.45632      6000\n",
            "weighted avg    0.72523   0.77867   0.68922      6000\n",
            "\n",
            "----------------------------------------------------------------------------------------------------\n",
            "For fold no: 5\n",
            "----------------------------------------------------------------------------------------------------\n",
            "Accuracy on training data: 78.17083333333333%\n",
            "Testing Accuracy Score: 78.56666666666666\n",
            "Confusion Matrix : \n",
            "[[4681   14]\n",
            " [1272   33]]\n",
            "Classification Report for 2-classes: \n",
            "              precision    recall  f1-score   support\n",
            "\n",
            "           0    0.78633   0.99702   0.87923      4695\n",
            "           1    0.70213   0.02529   0.04882      1305\n",
            "\n",
            "    accuracy                        0.78567      6000\n",
            "   macro avg    0.74423   0.51115   0.46402      6000\n",
            "weighted avg    0.76801   0.78567   0.69861      6000\n",
            "\n",
            "----------------------------------------------------------------------------------------------------\n"
          ]
        }
      ]
    },
    {
      "cell_type": "markdown",
      "metadata": {
        "id": "PfSmdT2ntzGT"
      },
      "source": [
        "#MLP (with only one hidden layer)"
      ]
    },
    {
      "cell_type": "code",
      "metadata": {
        "id": "ki1i2LkYthpp"
      },
      "source": [
        "from sklearn.neural_network import MLPClassifier"
      ],
      "execution_count": null,
      "outputs": []
    },
    {
      "cell_type": "code",
      "metadata": {
        "id": "1tOWMqmcEg05",
        "colab": {
          "base_uri": "https://localhost:8080/"
        },
        "outputId": "9733992a-2c4f-4c04-aebe-df8220726091"
      },
      "source": [
        "for i in range(0, 5): # for 5 fold\n",
        "  print(\"For fold no:\", i+1)\n",
        "  print(\"-\"*100)\n",
        "  mlp = MLPClassifier(hidden_layer_sizes=(100), activation='logistic',solver='sgd', random_state=1, max_iter=100).fit(all_x_train[0], all_y_train[0])\n",
        "  mlp.predict(all_x_train[0])\n",
        "  print(\"Accuracy on training data: \" + str(mlp.score(all_x_train[i], all_y_train[i])*100) + \"%\")\n",
        "  predicted = mlp.predict(all_x_test[i])\n",
        "  print(\"Testing Accuracy Score: \" + str(accuracy_score(all_y_test[i], predicted)*100))\n",
        "  print('Confusion Matrix : \\n' + str(confusion_matrix(all_y_test[i], predicted)))\n",
        "  print(\"Classification Report for 2-classes: \")\n",
        "  out_labels = [0, 1]\n",
        "  print(classification_report(all_y_test[i], predicted, out_labels, digits=5))\n",
        "  print(\"-\"*100)"
      ],
      "execution_count": null,
      "outputs": [
        {
          "output_type": "stream",
          "name": "stdout",
          "text": [
            "For fold no: 1\n",
            "----------------------------------------------------------------------------------------------------\n",
            "Accuracy on training data: 81.05833333333334%\n",
            "Testing Accuracy Score: 80.48333333333333\n",
            "Confusion Matrix : \n",
            "[[4482  151]\n",
            " [1020  347]]\n",
            "Classification Report for 2-classes: \n",
            "              precision    recall  f1-score   support\n",
            "\n",
            "           0    0.81461   0.96741   0.88446      4633\n",
            "           1    0.69679   0.25384   0.37212      1367\n",
            "\n",
            "    accuracy                        0.80483      6000\n",
            "   macro avg    0.75570   0.61062   0.62829      6000\n",
            "weighted avg    0.78777   0.80483   0.76773      6000\n",
            "\n",
            "----------------------------------------------------------------------------------------------------\n",
            "For fold no: 2\n",
            "----------------------------------------------------------------------------------------------------\n",
            "Accuracy on training data: 80.80416666666666%\n",
            "Testing Accuracy Score: 81.5\n",
            "Confusion Matrix : \n",
            "[[4547  153]\n",
            " [ 957  343]]\n",
            "Classification Report for 2-classes: \n",
            "              precision    recall  f1-score   support\n",
            "\n",
            "           0    0.82613   0.96745   0.89122      4700\n",
            "           1    0.69153   0.26385   0.38196      1300\n",
            "\n",
            "    accuracy                        0.81500      6000\n",
            "   macro avg    0.75883   0.61565   0.63659      6000\n",
            "weighted avg    0.79696   0.81500   0.78088      6000\n",
            "\n",
            "----------------------------------------------------------------------------------------------------\n",
            "For fold no: 3\n",
            "----------------------------------------------------------------------------------------------------\n",
            "Accuracy on training data: 80.88333333333333%\n",
            "Testing Accuracy Score: 81.18333333333332\n",
            "Confusion Matrix : \n",
            "[[4535  132]\n",
            " [ 997  336]]\n",
            "Classification Report for 2-classes: \n",
            "              precision    recall  f1-score   support\n",
            "\n",
            "           0    0.81978   0.97172   0.88930      4667\n",
            "           1    0.71795   0.25206   0.37313      1333\n",
            "\n",
            "    accuracy                        0.81183      6000\n",
            "   macro avg    0.76886   0.61189   0.63121      6000\n",
            "weighted avg    0.79715   0.81183   0.77463      6000\n",
            "\n",
            "----------------------------------------------------------------------------------------------------\n",
            "For fold no: 4\n",
            "----------------------------------------------------------------------------------------------------\n",
            "Accuracy on training data: 81.00833333333334%\n",
            "Testing Accuracy Score: 80.68333333333332\n",
            "Confusion Matrix : \n",
            "[[4512  157]\n",
            " [1002  329]]\n",
            "Classification Report for 2-classes: \n",
            "              precision    recall  f1-score   support\n",
            "\n",
            "           0    0.81828   0.96637   0.88618      4669\n",
            "           1    0.67695   0.24718   0.36214      1331\n",
            "\n",
            "    accuracy                        0.80683      6000\n",
            "   macro avg    0.74762   0.60678   0.62416      6000\n",
            "weighted avg    0.78693   0.80683   0.76993      6000\n",
            "\n",
            "----------------------------------------------------------------------------------------------------\n",
            "For fold no: 5\n",
            "----------------------------------------------------------------------------------------------------\n",
            "Accuracy on training data: 80.9625%\n",
            "Testing Accuracy Score: 80.86666666666666\n",
            "Confusion Matrix : \n",
            "[[4550  145]\n",
            " [1003  302]]\n",
            "Classification Report for 2-classes: \n",
            "              precision    recall  f1-score   support\n",
            "\n",
            "           0    0.81938   0.96912   0.88798      4695\n",
            "           1    0.67562   0.23142   0.34475      1305\n",
            "\n",
            "    accuracy                        0.80867      6000\n",
            "   macro avg    0.74750   0.60027   0.61636      6000\n",
            "weighted avg    0.78811   0.80867   0.76983      6000\n",
            "\n",
            "----------------------------------------------------------------------------------------------------\n"
          ]
        }
      ]
    },
    {
      "cell_type": "code",
      "metadata": {
        "id": "kBsMF402thjc"
      },
      "source": [],
      "execution_count": null,
      "outputs": []
    }
  ]
}