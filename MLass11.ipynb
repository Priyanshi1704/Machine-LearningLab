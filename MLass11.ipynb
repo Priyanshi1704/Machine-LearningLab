{
  "nbformat": 4,
  "nbformat_minor": 0,
  "metadata": {
    "colab": {
      "name": "MLass11.ipynb",
      "provenance": [],
      "authorship_tag": "ABX9TyMOR022CRcIoheZUF4LY/pV",
      "include_colab_link": true
    },
    "kernelspec": {
      "name": "python3",
      "display_name": "Python 3"
    },
    "language_info": {
      "name": "python"
    }
  },
  "cells": [
    {
      "cell_type": "markdown",
      "metadata": {
        "id": "view-in-github",
        "colab_type": "text"
      },
      "source": [
        "<a href=\"https://colab.research.google.com/github/Priyanshi1704/Machine-LearningLab/blob/main/MLass11.ipynb\" target=\"_parent\"><img src=\"https://colab.research.google.com/assets/colab-badge.svg\" alt=\"Open In Colab\"/></a>"
      ]
    },
    {
      "cell_type": "code",
      "metadata": {
        "id": "XL8bwqRVw9ce"
      },
      "source": [
        "import numpy as np\n",
        "import pandas as pd\n",
        "from sklearn import datasets\n",
        "import random\n",
        "import sys\n",
        "import math"
      ],
      "execution_count": 4,
      "outputs": []
    },
    {
      "cell_type": "code",
      "metadata": {
        "id": "hHFcGeIew9Zm"
      },
      "source": [
        "iris = datasets.load_iris()\n",
        "iris.feature_names\n",
        "data = pd.DataFrame(iris.data)\n",
        "\n",
        "\n",
        "\n",
        "# normalize the dataset\n",
        "max_val=max(data.max())\n",
        "data =data/max_val\n",
        "\n",
        "data.columns = iris.feature_names\n",
        "data = np.array(data)"
      ],
      "execution_count": 5,
      "outputs": []
    },
    {
      "cell_type": "code",
      "metadata": {
        "id": "IERAng_Mw9WW"
      },
      "source": [
        "def winner_cluster(x , W ,C):\n",
        "  index = 0\n",
        "  cost = np.linalg.norm(W[0] - x)\n",
        "  \n",
        "  for i in range(C):\n",
        "    curr_cost = np.linalg.norm(W[i] - x)\n",
        "   \n",
        "    if(cost > curr_cost):\n",
        "      curr_cost = cost\n",
        "      index = i\n",
        "       \n",
        "  return index"
      ],
      "execution_count": 6,
      "outputs": []
    },
    {
      "cell_type": "code",
      "metadata": {
        "id": "QHQDGW1zw9TQ"
      },
      "source": [
        "def Gaussian_Neighbourhood_funct( i, j):\n",
        "  return math.exp(-((abs(i-j)**2) / 2))"
      ],
      "execution_count": 7,
      "outputs": []
    },
    {
      "cell_type": "code",
      "metadata": {
        "id": "3ou_P__I8sTl"
      },
      "source": [
        "def SSE(mediod , X , cluster , k):\n",
        "  sse_cost = 0\n",
        "  for i in range(k):\n",
        "    pattern = []\n",
        "    for j in range(0, X.shape[0]):\n",
        "      if(i == cluster[j]):\n",
        "        pattern.append(j)\n",
        "    for j in range(len(pattern)):\n",
        "      sse_cost = sse_cost + np.linalg.norm(X[pattern[j]] - mediod[i])**2\n",
        "  return sse_cost"
      ],
      "execution_count": 10,
      "outputs": []
    },
    {
      "cell_type": "code",
      "metadata": {
        "id": "zA2q8ATTw9Ot"
      },
      "source": [
        "def SOM(X , C , epoch ):\n",
        "  n = len(X[0])\n",
        "  W = [[0]*n]*C\n",
        "  \n",
        "  for i in range(C):\n",
        "    for j in range(n):\n",
        "      W[i][j] = random.uniform(0 , 1)\n",
        "    \n",
        "  cluster = [0]*len(X)\n",
        "  newCluster = [0]*len(X)\n",
        "  for i in range(epoch):\n",
        "    cluster = newCluster.copy()\n",
        "    \n",
        "    for j in range(len(X)):\n",
        "      k = winner_cluster(X[j] , W , C)\n",
        "      newCluster[j] = k\n",
        "     \n",
        "      # print(W)\n",
        "      for l in range(C):\n",
        "        h = Gaussian_Neighbourhood_funct(l , k)\n",
        "        # here learning rate is 1\n",
        "        W[l] = W[l] + 1 * h * X[j]*(X[j] - W[l])\n",
        "      \n",
        "       \n",
        "    if(cluster == newCluster):\n",
        "      return cluster , W\n",
        "   \n",
        "  return cluster , W"
      ],
      "execution_count": 8,
      "outputs": []
    },
    {
      "cell_type": "code",
      "metadata": {
        "colab": {
          "base_uri": "https://localhost:8080/"
        },
        "id": "gfLlLeYOw9MN",
        "outputId": "a2dd0c74-8846-4569-9d68-fd0ce2a70a6a"
      },
      "source": [
        "from sklearn.metrics import silhouette_score\n",
        "cluster , W = SOM(data , 4, 1000)\n",
        "print(cluster)\n",
        "print(W)\n",
        "silhouette_avg = silhouette_score(data, cluster)\n",
        "print(silhouette_avg)"
      ],
      "execution_count": 9,
      "outputs": [
        {
          "output_type": "stream",
          "name": "stdout",
          "text": [
            "[0, 0, 0, 0, 0, 0, 0, 0, 0, 0, 0, 0, 0, 0, 0, 0, 0, 0, 0, 0, 0, 0, 0, 0, 0, 0, 0, 0, 0, 0, 0, 0, 0, 0, 0, 0, 0, 0, 0, 0, 0, 0, 0, 0, 0, 0, 0, 0, 0, 0, 3, 3, 3, 3, 3, 3, 3, 2, 3, 3, 3, 3, 3, 3, 3, 3, 3, 3, 3, 3, 3, 3, 3, 3, 3, 3, 3, 3, 3, 3, 3, 3, 3, 3, 3, 3, 3, 3, 3, 3, 3, 3, 3, 3, 3, 3, 3, 3, 0, 3, 3, 3, 3, 3, 3, 3, 1, 3, 3, 3, 3, 3, 3, 3, 3, 3, 3, 3, 3, 1, 3, 1, 3, 1, 3, 3, 1, 1, 3, 3, 3, 3, 1, 0, 0, 3, 1, 1, 0, 3, 3, 3, 0, 3, 3, 3, 0, 3, 3, 0]\n",
            "[array([0.75715289, 0.36160491, 0.64302676, 0.22807536]), array([0.77568286, 0.37504296, 0.65418558, 0.25059192]), array([0.80391451, 0.39908925, 0.6759049 , 0.27873991]), array([0.79355153, 0.40727468, 0.67765902, 0.2850539 ])]\n",
            "0.03607252141868782\n"
          ]
        }
      ]
    },
    {
      "cell_type": "code",
      "metadata": {
        "colab": {
          "base_uri": "https://localhost:8080/"
        },
        "id": "PbTKZ6oaw9Hh",
        "outputId": "ba3698dd-2fe6-4cce-ba78-2f3c409e0dfa"
      },
      "source": [
        "print(len(cluster))"
      ],
      "execution_count": 11,
      "outputs": [
        {
          "output_type": "stream",
          "name": "stdout",
          "text": [
            "150\n"
          ]
        }
      ]
    },
    {
      "cell_type": "code",
      "metadata": {
        "colab": {
          "base_uri": "https://localhost:8080/"
        },
        "id": "bJKWbNS1w9FE",
        "outputId": "a3f2d5ce-aa9d-4678-9fe5-8b8345d0814a"
      },
      "source": [
        "silhouette_avg = silhouette_score(data, cluster)\n",
        "print(silhouette_avg)"
      ],
      "execution_count": 12,
      "outputs": [
        {
          "output_type": "stream",
          "name": "stdout",
          "text": [
            "0.03607252141868782\n"
          ]
        }
      ]
    },
    {
      "cell_type": "code",
      "metadata": {
        "id": "BDY-pDfwtsdO"
      },
      "source": [
        ""
      ],
      "execution_count": null,
      "outputs": []
    },
    {
      "cell_type": "code",
      "metadata": {
        "id": "oRwxcW98tsY7"
      },
      "source": [
        ""
      ],
      "execution_count": null,
      "outputs": []
    },
    {
      "cell_type": "code",
      "metadata": {
        "id": "rvyVPhDVtsWV"
      },
      "source": [
        ""
      ],
      "execution_count": null,
      "outputs": []
    },
    {
      "cell_type": "code",
      "metadata": {
        "id": "F3qQihfOtsTR"
      },
      "source": [
        ""
      ],
      "execution_count": null,
      "outputs": []
    },
    {
      "cell_type": "code",
      "metadata": {
        "id": "60yJy7bFtsPn"
      },
      "source": [
        ""
      ],
      "execution_count": null,
      "outputs": []
    },
    {
      "cell_type": "code",
      "metadata": {
        "id": "7WYqkKHCtsMl"
      },
      "source": [
        ""
      ],
      "execution_count": null,
      "outputs": []
    },
    {
      "cell_type": "code",
      "metadata": {
        "id": "h37DbWG0tsIe"
      },
      "source": [
        ""
      ],
      "execution_count": null,
      "outputs": []
    }
  ]
}