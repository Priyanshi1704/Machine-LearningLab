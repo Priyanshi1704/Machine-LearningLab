{
  "nbformat": 4,
  "nbformat_minor": 0,
  "metadata": {
    "colab": {
      "name": "Welcome To Colaboratory",
      "provenance": [],
      "collapsed_sections": [],
      "include_colab_link": true
    },
    "kernelspec": {
      "display_name": "Python 3",
      "name": "python3"
    }
  },
  "cells": [
    {
      "cell_type": "markdown",
      "metadata": {
        "id": "view-in-github",
        "colab_type": "text"
      },
      "source": [
        "<a href=\"https://colab.research.google.com/github/Priyanshi1704/Machine-LearningLab/blob/main/lab4.ipynb\" target=\"_parent\"><img src=\"https://colab.research.google.com/assets/colab-badge.svg\" alt=\"Open In Colab\"/></a>"
      ]
    },
    {
      "cell_type": "markdown",
      "metadata": {
        "id": "b_LzpOf9JkaC"
      },
      "source": [
        "Simple Linear Regression (One feature)\n",
        "1. Write your own code for linear regression model using the\n",
        "Gradient Descent Algorithm\n",
        "Dataset: Swedish Auto Insurance dataset. Click here to download\n",
        "the dataset\n",
        "i) You need to split the dataset into train(50%), validation\n",
        "(20%), and test(30%).\n",
        "ii) Print the train, validation, and test MSE by considering\n",
        "the learning rate 0.1, 0.001, 0.0001, 0.5, and 1.\n",
        "iii) Plot graph for training MSE vs. epoch by considering the\n",
        "learning rate 0.3."
      ]
    },
    {
      "cell_type": "code",
      "metadata": {
        "id": "DLs0pZRIJswq"
      },
      "source": [
        "\n",
        "# Making the imports\n",
        "import numpy as np\n",
        "import pandas as pd\n",
        "import matplotlib.pyplot as plt\n",
        "plt.rcParams['figure.figsize'] = (12.0, 9.0)"
      ],
      "execution_count": 1,
      "outputs": []
    },
    {
      "cell_type": "code",
      "metadata": {
        "id": "5bHzG5DEMjeV",
        "outputId": "efba9a8c-1da3-4091-f64f-75c14d19e452",
        "colab": {
          "base_uri": "https://localhost:8080/",
          "height": 265
        }
      },
      "source": [
        "# Preprocessing Input data\n",
        "data=pd.read_csv('lab4.csv')\n",
        "X=data.iloc[:,0]\n",
        "Y=data.iloc[:,1]\n",
        "plt.scatter(X,Y)\n",
        "plt.show()"
      ],
      "execution_count": 7,
      "outputs": [
        {
          "output_type": "display_data",
          "data": {
            "image/png": "[encoded data removed]",
            "text/plain": [
              "<Figure size 432x288 with 1 Axes>"
            ]
          },
          "metadata": {
            "needs_background": "light"
          }
        }
      ]
    },
    {
      "cell_type": "code",
      "metadata": {
        "id": "jVVLtfIbJtKo",
        "outputId": "d585b28c-d48c-4ca6-a1f1-2f9926dff6fb",
        "colab": {
          "base_uri": "https://localhost:8080/"
        }
      },
      "source": [
        "\n",
        "# Building the model\n",
        "m=0\n",
        "c=0\n",
        "L=0.0001 # The learning Rate\n",
        "epochs=1000 # The number of iterations to perform gradient descent\n",
        "n=(float)(len(X)) # Number of elements in X\n",
        "# Performing Gradient Descent \n",
        "for i in range(len(X)):\n",
        "  Y_pred=m*X +c;\n",
        "  D_m=(-2/n)*sum(X*(Y-Y_pred))\n",
        "  D_c=(-2/n)*sum(Y-Y_pred)\n",
        "  m=m-L*D_m\n",
        "  c=c-L*D_c\n",
        "print (m,c)"
      ],
      "execution_count": 20,
      "outputs": [
        {
          "output_type": "stream",
          "text": [
            "3.8410292529538346 0.20940447530992645\n"
          ],
          "name": "stdout"
        }
      ]
    },
    {
      "cell_type": "code",
      "metadata": {
        "id": "IRCucO_CMuwH",
        "outputId": "1b3819de-d9f7-4fb8-f5de-db650ffb1704",
        "colab": {
          "base_uri": "https://localhost:8080/",
          "height": 269
        }
      },
      "source": [
        "\n",
        "# Making predictions\n",
        "Y_pred=m*X +c;\n",
        "plt.scatter(X,Y)\n",
        "plt.plot([min(X),max(X)],[min(Y_pred),max(Y_pred)],color='red')\n",
        "plt.show()\n"
      ],
      "execution_count": 17,
      "outputs": [
        {
          "output_type": "display_data",
          "data": {
            "image/png": "[encoded data removed]",
            "text/plain": [
              "<Figure size 432x288 with 1 Axes>"
            ]
          },
          "metadata": {
            "needs_background": "light"
          }
        }
      ]
    }
  ]
}