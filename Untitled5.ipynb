{
  "nbformat": 4,
  "nbformat_minor": 0,
  "metadata": {
    "colab": {
      "name": "Untitled5.ipynb",
      "provenance": [],
      "toc_visible": true,
      "authorship_tag": "ABX9TyMDZVPtsOpNj+TqK4ndiOwt",
      "include_colab_link": true
    },
    "kernelspec": {
      "name": "python3",
      "display_name": "Python 3"
    },
    "language_info": {
      "name": "python"
    }
  },
  "cells": [
    {
      "cell_type": "markdown",
      "metadata": {
        "id": "view-in-github",
        "colab_type": "text"
      },
      "source": [
        "<a href=\"https://colab.research.google.com/github/Priyanshi1704/Machine-LearningLab/blob/main/Untitled5.ipynb\" target=\"_parent\"><img src=\"https://colab.research.google.com/assets/colab-badge.svg\" alt=\"Open In Colab\"/></a>"
      ]
    },
    {
      "cell_type": "code",
      "metadata": {
        "colab": {
          "base_uri": "https://localhost:8080/"
        },
        "id": "nl2dMzcb6jLU",
        "outputId": "fc872a27-e37f-4bf8-ce46-74757cd6f106"
      },
      "source": [
        "from sklearn.datasets import load_iris\n",
        "import numpy as np\n",
        "iris= load_iris()\n",
        "print(iris.data.shape)"
      ],
      "execution_count": 1,
      "outputs": [
        {
          "output_type": "stream",
          "name": "stdout",
          "text": [
            "(150, 4)\n"
          ]
        }
      ]
    },
    {
      "cell_type": "code",
      "metadata": {
        "colab": {
          "base_uri": "https://localhost:8080/"
        },
        "id": "uL7TwGlR7t48",
        "outputId": "bbfc009b-5e65-4e5f-edea-f80b7afb858c"
      },
      "source": [
        "from sklearn.datasets import load_wine\n",
        "import numpy as np\n",
        "wine = load_wine()\n",
        "print(wine.data.shape)\n",
        "print(wine.target.shape)"
      ],
      "execution_count": 2,
      "outputs": [
        {
          "output_type": "stream",
          "name": "stdout",
          "text": [
            "(178, 13)\n",
            "(178,)\n"
          ]
        }
      ]
    },
    {
      "cell_type": "code",
      "metadata": {
        "id": "YwZ6g5-B7t2R"
      },
      "source": [
        "def numberOfClases(y):\n",
        "  l=[0 for i in range(0,100)]\n",
        "  for i in y:\n",
        "    l[i] = l[i]+1\n",
        "  count=0\n",
        "  classes=[]\n",
        "  for i in range(0,100):\n",
        "    if l[i]!=0:\n",
        "      count=count+1\n",
        "      classes.append(i)\n",
        "  return count,classes"
      ],
      "execution_count": 3,
      "outputs": []
    },
    {
      "cell_type": "code",
      "metadata": {
        "id": "M4B9-WsB7tzI"
      },
      "source": [
        "def setY(y,targetClass):\n",
        "  newY=[]\n",
        "  for i in y:\n",
        "    if i==targetClass:\n",
        "      newY.append(1)\n",
        "    else:\n",
        "      newY.append(0)\n",
        "  return newY\n",
        "\n",
        "def getYs(y,classes):\n",
        "  ys=[]\n",
        "  for x in classes:\n",
        "    ys.append(setY(y,x))\n",
        "  return np.array(ys)"
      ],
      "execution_count": 4,
      "outputs": []
    },
    {
      "cell_type": "code",
      "metadata": {
        "id": "vfrK0mXc7tww"
      },
      "source": [
        "def split(X,y,train=30,validation=10,test=60,percentage=True):\n",
        "  if percentage:\n",
        "    train = train/100\n",
        "    validation = validation/100\n",
        "    test = test/100    \n",
        "  from sklearn.model_selection import train_test_split\n",
        "  X_temp, X_test, Y_temp, Y_test = train_test_split(X,y, test_size=test, random_state=42)\n",
        "  X_train,X_valid,Y_train,Y_valid = train_test_split(X_temp,Y_temp,test_size=((validation*100)/(100 - test*100)),random_state=50)\n",
        "\n",
        "  return X_train,X_valid,X_test,Y_train,Y_valid,Y_test"
      ],
      "execution_count": 5,
      "outputs": []
    },
    {
      "cell_type": "code",
      "metadata": {
        "id": "FiaBIEI_7tt4"
      },
      "source": [
        "def sigmoid(z):\n",
        "    h= np.reciprocal(1+np.exp(-z))\n",
        "    return h"
      ],
      "execution_count": 6,
      "outputs": []
    },
    {
      "cell_type": "code",
      "metadata": {
        "id": "Utr4k-sJ7trN"
      },
      "source": [
        "\n",
        "def getInitialWeights(numClasses,numFeatures):\n",
        "  import random\n",
        "  weights=[]\n",
        "  for x in range(numClasses):\n",
        "    w=[]\n",
        "    for i in range(0,numFeatures+1):\n",
        "      random.seed(i)\n",
        "      w.append(random.uniform(0,1))\n",
        "    weights.append(w)\n",
        "  return np.array(weights)\n",
        "\n",
        "# weights = getInitialWeights(numClasses,No_of_features)\n",
        "# print(weights.shape)\n",
        "# print(weights)"
      ],
      "execution_count": 7,
      "outputs": []
    },
    {
      "cell_type": "code",
      "metadata": {
        "id": "sf5Es1Uf7tpE"
      },
      "source": [
        "def add_intercept(X):\n",
        "  X= np.hstack([np.ones((X.shape[0],1)), X])\n",
        "  return X"
      ],
      "execution_count": 8,
      "outputs": []
    },
    {
      "cell_type": "code",
      "metadata": {
        "id": "jP7haeyk8II1"
      },
      "source": [
        "def J(X,y,weights):\n",
        "  m = X.shape[0]\n",
        "  h= sigmoid(np.matmul(X,weights))\n",
        "  cost= (-1/m)*sum((y * np.log(h) + (1 - y) * np.log(1 - h)))\n",
        "  return cost"
      ],
      "execution_count": 9,
      "outputs": []
    },
    {
      "cell_type": "code",
      "metadata": {
        "id": "blFCv5jt8IFj"
      },
      "source": [
        "def updateWeights(X,y,weights,alpha,epochs,rho):\n",
        "\n",
        "  cost_array=[]\n",
        "  epochs_array=[0]\n",
        "  cost_array.append(J(X,y,weights))\n",
        "  m = X.shape[0]\n",
        "  for i in range(epochs):\n",
        "\n",
        "    h= sigmoid(np.matmul(X,weights))\n",
        "    grad= (1/m)*(np.matmul(np.transpose(X),(h- y)))\n",
        "    weights= weights-alpha*grad\n",
        "    cost_array.append(J(X,y,weights))\n",
        "    epochs_array.append(i+1)\n",
        "    if abs(cost_array[i-1]- cost_array[i]) < rho:\n",
        "      break      \n",
        "    cost= cost_array[len(cost_array)-1]    \n",
        "  return cost,cost_array,weights,epochs_array\n",
        "  \n",
        "def LogisticRegression(X,Y,alpha=1,epochs=100,rho=0.0001):\n",
        "  X_new = add_intercept(X)\n",
        "  numClasses,classes = numberOfClases(Y)\n",
        "  numFeatures = X.shape[1]\n",
        "  weights = getInitialWeights(numClasses,numFeatures)\n",
        "  Ys = getYs(Y,classes)\n",
        "  final_weights=[]\n",
        "  cost_array=[]\n",
        "  epochs_array=[]\n",
        "  for x in range(numClasses):\n",
        "    cost,cA,W,e = updateWeights(X_new,Ys[x],weights[x],alpha,epochs,rho)\n",
        "    # print(\"Class\",x)\n",
        "    # print(cost)\n",
        "    final_weights.append(W)\n",
        "    # print(W)\n",
        "    cost_array.append(cA)\n",
        "    epochs_array.append(e)\n",
        "  \n",
        "  cost_array = np.array(cost_array)\n",
        "  # print(cost_array.shape)\n",
        "  epochs_array = np.array(epochs_array)\n",
        "  # print(epochs_array.shape)\n",
        "  import matplotlib.pyplot as plt\n",
        "  # %matplotlib inline\n",
        "  plt.plot(epochs_array[0],cost_array[0])\n",
        "\n",
        "  return final_weights"
      ],
      "execution_count": 10,
      "outputs": []
    },
    {
      "cell_type": "code",
      "metadata": {
        "colab": {
          "base_uri": "https://localhost:8080/"
        },
        "id": "nhF577eI8IC3",
        "outputId": "2b4bd558-7be5-4c35-b394-d973682885b1"
      },
      "source": [
        "from sklearn.preprocessing import StandardScaler\n",
        "X_train,X_valid,X_test,Y_train,Y_valid,Y_test = split(StandardScaler().fit(wine.data).transform(wine.data),wine.target)\n",
        "# final_weights = LogisticRegression(X_train,Y_train,alpha=10)\n",
        "print(X_train.shape)\n",
        "print(X_valid.shape)\n",
        "print(X_test.shape)"
      ],
      "execution_count": 11,
      "outputs": [
        {
          "output_type": "stream",
          "name": "stdout",
          "text": [
            "(53, 13)\n",
            "(18, 13)\n",
            "(107, 13)\n"
          ]
        }
      ]
    },
    {
      "cell_type": "code",
      "metadata": {
        "id": "ncoiQATx8IAP"
      },
      "source": [
        "def predict(X,Y,final_weights,classes):\n",
        "  hx=[]\n",
        "  X = add_intercept(X)\n",
        "  for weight in final_weights:\n",
        "    hx.append(sigmoid(np.matmul(X,weight)))\n",
        "    # hx.append(sigmoid(X*np.transpose(weight)))\n",
        "  \n",
        "  hx = np.array(hx)\n",
        "  # print(hx.shape)\n",
        "  # print(hx)\n",
        "\n",
        "  row = hx.shape[0]\n",
        "  col = hx.shape[1]\n",
        "  prediction=[]\n",
        "  for c in range(0,col):\n",
        "    h=[]\n",
        "    for r in range(0,row):\n",
        "      h.append(hx[r][c])\n",
        "    # print(h)\n",
        "    # print(\"input \",c,\" belongs to \",classes[h.index(max(h))],\"should have belonged to\",Y[c])\n",
        "    prediction.append(classes[h.index(max(h))])\n",
        "\n",
        "  print(\"test accuracy: {} %\".format(100 - np.mean(np.abs(prediction - Y)) * 100))\n",
        "  return 100 - np.mean(np.abs(prediction - Y)) * 100"
      ],
      "execution_count": 12,
      "outputs": []
    },
    {
      "cell_type": "code",
      "metadata": {
        "colab": {
          "base_uri": "https://localhost:8080/",
          "height": 450
        },
        "id": "gk5joGTv8hJQ",
        "outputId": "e05dac07-7c4d-4563-c8a3-0068556c097f"
      },
      "source": [
        "from sklearn.model_selection import KFold \n",
        "k = 5\n",
        "kf = KFold(n_splits=k, random_state=None)\n",
        "wine.data = StandardScaler().fit(wine.data).transform(wine.data)\n",
        "\n",
        "for train_index , test_index in kf.split(wine.data):\n",
        "  X_train = wine.data[train_index]\n",
        "  Y_train = wine.target[train_index]\n",
        "\n",
        "  X_test = wine.data[test_index]\n",
        "  Y_test = wine.target[test_index]\n",
        "\n",
        "  final_weights = LogisticRegression(X_train,Y_train,alpha=0.001)\n",
        "  predict(X_test,Y_test,final_weights,classes)"
      ],
      "execution_count": 13,
      "outputs": [
        {
          "output_type": "error",
          "ename": "NameError",
          "evalue": "ignored",
          "traceback": [
            "\u001b[0;31m---------------------------------------------------------------------------\u001b[0m",
            "\u001b[0;31mNameError\u001b[0m                                 Traceback (most recent call last)",
            "\u001b[0;32m<ipython-input-13-b6b90eda357c>\u001b[0m in \u001b[0;36m<module>\u001b[0;34m()\u001b[0m\n\u001b[1;32m     12\u001b[0m \u001b[0;34m\u001b[0m\u001b[0m\n\u001b[1;32m     13\u001b[0m   \u001b[0mfinal_weights\u001b[0m \u001b[0;34m=\u001b[0m \u001b[0mLogisticRegression\u001b[0m\u001b[0;34m(\u001b[0m\u001b[0mX_train\u001b[0m\u001b[0;34m,\u001b[0m\u001b[0mY_train\u001b[0m\u001b[0;34m,\u001b[0m\u001b[0malpha\u001b[0m\u001b[0;34m=\u001b[0m\u001b[0;36m0.001\u001b[0m\u001b[0;34m)\u001b[0m\u001b[0;34m\u001b[0m\u001b[0;34m\u001b[0m\u001b[0m\n\u001b[0;32m---> 14\u001b[0;31m   \u001b[0mpredict\u001b[0m\u001b[0;34m(\u001b[0m\u001b[0mX_test\u001b[0m\u001b[0;34m,\u001b[0m\u001b[0mY_test\u001b[0m\u001b[0;34m,\u001b[0m\u001b[0mfinal_weights\u001b[0m\u001b[0;34m,\u001b[0m\u001b[0mclasses\u001b[0m\u001b[0;34m)\u001b[0m\u001b[0;34m\u001b[0m\u001b[0;34m\u001b[0m\u001b[0m\n\u001b[0m",
            "\u001b[0;31mNameError\u001b[0m: name 'classes' is not defined"
          ]
        },
        {
          "output_type": "display_data",
          "data": {
            "image/png": "[encoded data removed]",
            "text/plain": [
              "<Figure size 432x288 with 1 Axes>"
            ]
          },
          "metadata": {
            "needs_background": "light"
          }
        }
      ]
    },
    {
      "cell_type": "code",
      "metadata": {
        "id": "JczDuwQs8hE6"
      },
      "source": [
        ""
      ],
      "execution_count": null,
      "outputs": []
    },
    {
      "cell_type": "code",
      "metadata": {
        "id": "PpuJXXGS8H9b"
      },
      "source": [
        ""
      ],
      "execution_count": null,
      "outputs": []
    },
    {
      "cell_type": "code",
      "metadata": {
        "id": "vEJbU1Rg8H6F"
      },
      "source": [
        ""
      ],
      "execution_count": null,
      "outputs": []
    }
  ]
}